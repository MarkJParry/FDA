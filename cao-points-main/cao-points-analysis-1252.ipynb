{
 "cells": [
  {
   "cell_type": "markdown",
   "id": "356d5158-04bc-4949-80cb-67442f420cec",
   "metadata": {},
   "source": [
    "# CAO Points Analysis\n",
    "\n",
    "http://www.cao.ie/index.php?page=points&p=2021\n",
    "\n",
    "***"
   ]
  },
  {
   "cell_type": "code",
   "execution_count": 1,
   "id": "bb230ec5-6d45-49c9-b07c-c544db01347b",
   "metadata": {},
   "outputs": [],
   "source": [
    "# Regular expressions.\n",
    "import re\n",
    "\n",
    "# Convenient HTTP requests.\n",
    "import requests as rq\n",
    "\n",
    "#Date time module in python for manipulating dates\n",
    "import datetime as dt"
   ]
  },
  {
   "cell_type": "code",
   "execution_count": 2,
   "id": "31663e1f-51a4-448f-a35f-70bb0c4b0da1",
   "metadata": {},
   "outputs": [
    {
     "data": {
      "text/plain": [
       "<Response [200]>"
      ]
     },
     "execution_count": 2,
     "metadata": {},
     "output_type": "execute_result"
    }
   ],
   "source": [
    "# Fetch the CAO points URL.\n",
    "resp = rq.get('http://www2.cao.ie/points/l8.php')\n",
    "\n",
    "\n",
    "# Have a quick peek. 200 means OK.\n",
    "resp\n"
   ]
  },
  {
   "cell_type": "markdown",
   "id": "cba23721-e20f-4c54-a6eb-33ce22b4aa7b",
   "metadata": {},
   "source": [
    "### Save a copy of the original htlm file and time stamp it\n",
    "***"
   ]
  },
  {
   "cell_type": "code",
   "execution_count": 3,
   "id": "8dedaad0-c386-432d-a5e8-09764f15e00f",
   "metadata": {},
   "outputs": [
    {
     "name": "stdout",
     "output_type": "stream",
     "text": [
      "data/Cao_2021_20211025_210500.html\n"
     ]
    }
   ],
   "source": [
    "#Create a timestamp from the date and time\n",
    "timeStamp = dt.datetime.now().strftime(\"%Y%m%d_%H%M%S\")\n",
    "#Create a path string\n",
    "path = \"data/\"\n",
    "#Create a filename string\n",
    "filename = \"Cao_2021_\" + timeStamp + \".html\"\n",
    "print(path+filename)"
   ]
  },
  {
   "cell_type": "code",
   "execution_count": 4,
   "id": "009e53d5-64a8-45fd-b389-96da96a85631",
   "metadata": {},
   "outputs": [],
   "source": [
    "#write the response text to the save file\n",
    "with open(path+filename,\"w\", encoding='utf-8') as savefile:\n",
    "    savefile.write(resp.text)"
   ]
  },
  {
   "cell_type": "markdown",
   "id": "2d08f006-1cb6-4a84-bb0e-1f1b3c674af9",
   "metadata": {},
   "source": [
    "\n",
    "<br>\n",
    "\n",
    "### Build and compile a regex search pattern to extract the lines I want\n",
    "***"
   ]
  },
  {
   "cell_type": "code",
   "execution_count": 5,
   "id": "8e3c0ce2-0403-4cf6-b2e1-c1cc90d453da",
   "metadata": {},
   "outputs": [],
   "source": [
    "# Compile the regular expression for matching lines. Changed Ians original to a more suitable one for my purposes.\n",
    "re_course = re.compile(r'([A-Z]{2}[0-9]{3})(\\s{2})(.{50})(\\s{3})(\\#?[0-9]{3}?\\*?)?(\\s{5})?(\\#?[0-9]{3}?\\#?)?')"
   ]
  },
  {
   "cell_type": "markdown",
   "id": "6b93be48-e77d-4f27-adf6-419b1ae0762a",
   "metadata": {},
   "source": [
    "#### What the r flag mean for the regex compiler in python"
   ]
  },
  {
   "cell_type": "markdown",
   "id": "8814d07b-a475-466a-a310-905321b29e1f",
   "metadata": {},
   "source": [
    "Prefixing with an r merely indicates to the string that backslashes \\ should be treated literally and not as escape characters for python.\n",
    "https://stackoverflow.com/questions/21104476/what-does-the-r-in-pythons-re-compiler-pattern-flags-mean"
   ]
  },
  {
   "cell_type": "markdown",
   "id": "087e05f8-2c15-48ca-91fd-ea939d28f697",
   "metadata": {},
   "source": [
    "<br>\n",
    "\n",
    "#### Loop through the lines of the response\n",
    "\n",
    "***"
   ]
  },
  {
   "cell_type": "code",
   "execution_count": 6,
   "id": "4c40fecf-7f50-4591-9e0b-9298a645f766",
   "metadata": {
    "tags": []
   },
   "outputs": [
    {
     "name": "stdout",
     "output_type": "stream",
     "text": [
      "Total number of lines is 949.\n"
     ]
    }
   ],
   "source": [
    "# Keep track of how many courses we process.\n",
    "no_lines = 0\n",
    "\n",
    "#Open a csv file and write the header to it (column names)\n",
    "with open('data/cao-2021.csv','w', encoding='utf-8') as csvfile:\n",
    "    header = 'Course,Desc,Round1,Round2' + \"\\n\"\n",
    "    csvfile.write(header)\n",
    "    # loop through the lines in the response.\n",
    "    for line in resp.iter_lines():\n",
    "        # Match only the lines representing courses.\n",
    "        res = re.match(re_course, line.decode('Windows-1252'))\n",
    "        #check the groupings - comment out the 3 lines below if not using or uncomment to debug\n",
    "        #if res != None:\n",
    "            #print(len(res.groups())) \n",
    "            #print(res.groups())\n",
    "        #result = re_course.match(line.decode('ISO-8859-1'))\n",
    "        #print(result, re.match.group())\n",
    "        if re_course.match(line.decode('Windows-1252')):\n",
    "            # Add one to the lines counter.\n",
    "            no_lines = no_lines + 1\n",
    "            # Uncomment next line to see the original.\n",
    "            #print(line)\n",
    "            # Pick out the relevant parts of the matched line.\n",
    "            csv_version = re_course.sub(r'\\1,\\3,\\5,\\7',line.decode('Windows-1252'))\n",
    "            # Print the CSV-style line.\n",
    "            #print(csv_version)\n",
    "            write_line = csv_version + \"\\n\"\n",
    "            #print(write_line)\n",
    "            csvfile.write(write_line)\n",
    "\n",
    "# Print the total number of processed lines.\n",
    "print(f\"Total number of lines is {no_lines}.\")"
   ]
  },
  {
   "cell_type": "markdown",
   "id": "06fd0e6f-d1ed-43c6-82a0-70db2207b7f6",
   "metadata": {},
   "source": [
    "***\n",
    "\n",
    "## End"
   ]
  }
 ],
 "metadata": {
  "kernelspec": {
   "display_name": "Python 3",
   "language": "python",
   "name": "python3"
  },
  "language_info": {
   "codemirror_mode": {
    "name": "ipython",
    "version": 3
   },
   "file_extension": ".py",
   "mimetype": "text/x-python",
   "name": "python",
   "nbconvert_exporter": "python",
   "pygments_lexer": "ipython3",
   "version": "3.8.8"
  }
 },
 "nbformat": 4,
 "nbformat_minor": 5
}
