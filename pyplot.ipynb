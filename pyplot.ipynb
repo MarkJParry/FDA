{
 "cells": [
  {
   "cell_type": "markdown",
   "id": "b303482a-de6b-464c-b2b1-c4498c238d94",
   "metadata": {},
   "source": [
    "# Pyplot Notebook"
   ]
  },
  {
   "cell_type": "markdown",
   "id": "e5d8bf06-be5a-49ad-9788-384d48b881c7",
   "metadata": {},
   "source": [
    "## Overview"
   ]
  },
  {
   "cell_type": "markdown",
   "id": "fa043df3-052e-4a1f-a7b9-f53d558545ab",
   "metadata": {},
   "source": [
    "## References"
   ]
  },
  {
   "cell_type": "markdown",
   "id": "3fb5efd2-9070-40e4-9b5d-650c89ca0cc0",
   "metadata": {},
   "source": [
    "## End"
   ]
  },
  {
   "cell_type": "code",
   "execution_count": null,
   "id": "aaa24b5e-aa13-4459-aa74-bb0c9affa120",
   "metadata": {},
   "outputs": [],
   "source": []
  }
 ],
 "metadata": {
  "kernelspec": {
   "display_name": "Python 3",
   "language": "python",
   "name": "python3"
  },
  "language_info": {
   "codemirror_mode": {
    "name": "ipython",
    "version": 3
   },
   "file_extension": ".py",
   "mimetype": "text/x-python",
   "name": "python",
   "nbconvert_exporter": "python",
   "pygments_lexer": "ipython3",
   "version": "3.8.8"
  }
 },
 "nbformat": 4,
 "nbformat_minor": 5
}
