{
 "cells": [
  {
   "cell_type": "markdown",
   "id": "ec257de1",
   "metadata": {},
   "source": [
    " ![](https://matplotlib.org/2.1.2/_static/logo2.png)"
   ]
  },
  {
   "cell_type": "markdown",
   "id": "b303482a-de6b-464c-b2b1-c4498c238d94",
   "metadata": {},
   "source": [
    "# Pyplot Notebook"
   ]
  },
  {
   "cell_type": "markdown",
   "id": "e5d8bf06-be5a-49ad-9788-384d48b881c7",
   "metadata": {},
   "source": [
    "## Overview\n",
    "Matplotlib is a desktop plotting package for creating publication-quality plots.[1]\n",
    "<br>\n",
    "It is a python package and can be installed using pip install matplotlib.pyplot or if you have anaconda installed it comes prebundled with anaconda.\n",
    "<br>\n",
    "It evolved from a project to enable a MATLAB type interface for python started by John Hunter[2] whilst doing his post-doctoral reseach.\n",
    "It is now a core component of python scientific stack (numpy, scipy, iPython and Jupyter notebooks).\n",
    "What is MATLAB(expand on this)\n",
    "<br>\n",
    "It is used to make informative visualizations(plots) which is useful in data analysis.(review)\n",
    "\n",
    "\n",
    "\n",
    "\n",
    "***"
   ]
  },
  {
   "cell_type": "markdown",
   "id": "df8668ca-1b7e-4f8a-9d49-8b562000f985",
   "metadata": {},
   "source": [
    "### How to use matplotlib.pyplot\n",
    "\n",
    "Pyplot is the interface that will be used in this notebook and to start using it, it can be imported using the naming covention \"plt\".\n"
   ]
  },
  {
   "cell_type": "code",
   "execution_count": 1,
   "id": "1e0648ef-73bf-4a00-9b86-bea862143f61",
   "metadata": {},
   "outputs": [],
   "source": [
    "import matplotlib.pyplot as plt"
   ]
  },
  {
   "cell_type": "markdown",
   "id": "30b8d5a5-2da1-4742-924c-8b68419bf549",
   "metadata": {
    "tags": []
   },
   "source": [
    "To then have it display in the notebook without recourse to calling the show function the magic function \"%matplotlib inline\" is used as follows:"
   ]
  },
  {
   "cell_type": "code",
   "execution_count": 2,
   "id": "aa1c5c69-fa32-4f58-a1d3-7dd8d4595999",
   "metadata": {},
   "outputs": [],
   "source": [
    "%matplotlib inline"
   ]
  },
  {
   "cell_type": "markdown",
   "id": "2314d369-9793-46e8-b567-46a35319b600",
   "metadata": {},
   "source": [
    "### How to style a plot   \n",
    "\n",
    "pyplot can use a variety of stlyes when displaying plots and this can be set up using the command \"plt.style.use\" which will bring in a css stylesheet to be used. The available styles can be found at https://matplotlib.org/stable/gallery/style_sheets/style_sheets_reference.html"
   ]
  },
  {
   "cell_type": "code",
   "execution_count": 3,
   "id": "3f7763f1-cd86-4eb8-a707-76ef4918d4bf",
   "metadata": {},
   "outputs": [],
   "source": [
    "plt.style.use('fast')"
   ]
  },
  {
   "cell_type": "markdown",
   "id": "1052c030-5905-489a-9b84-7b3e677bb05e",
   "metadata": {},
   "source": [
    "To see the avaiable style sheet names : "
   ]
  },
  {
   "cell_type": "code",
   "execution_count": 4,
   "id": "d93eb4cd-2c5b-423b-86eb-f59f39b77801",
   "metadata": {},
   "outputs": [
    {
     "name": "stdout",
     "output_type": "stream",
     "text": [
      "['Solarize_Light2', '_classic_test_patch', 'bmh', 'classic', 'dark_background', 'fast', 'fivethirtyeight', 'ggplot', 'grayscale', 'seaborn', 'seaborn-bright', 'seaborn-colorblind', 'seaborn-dark', 'seaborn-dark-palette', 'seaborn-darkgrid', 'seaborn-deep', 'seaborn-muted', 'seaborn-notebook', 'seaborn-paper', 'seaborn-pastel', 'seaborn-poster', 'seaborn-talk', 'seaborn-ticks', 'seaborn-white', 'seaborn-whitegrid', 'tableau-colorblind10']\n"
     ]
    }
   ],
   "source": [
    "print(plt.style.available)"
   ]
  },
  {
   "cell_type": "markdown",
   "id": "a933434b-b26a-41cf-9751-cf02e52124e0",
   "metadata": {},
   "source": [
    "The style can also be set in using rcparams https://matplotlib.org/stable/tutorials/introductory/customizing.html which allows parameters to be set at runtime in order to customize the plots."
   ]
  },
  {
   "cell_type": "code",
   "execution_count": 5,
   "id": "ae549275-7c19-4258-981a-b10cfe0c51ea",
   "metadata": {},
   "outputs": [],
   "source": [
    "#rcparams()"
   ]
  },
  {
   "cell_type": "markdown",
   "id": "77d50dd6-1042-41e8-b758-930c1e4f747f",
   "metadata": {},
   "source": [
    "### Creating a simple plot"
   ]
  },
  {
   "cell_type": "code",
   "execution_count": 6,
   "id": "9317d872-4966-4cfd-a04e-ee539719e703",
   "metadata": {
    "tags": []
   },
   "outputs": [
    {
     "data": {
      "image/png": "[encoded data removed]",
      "text/plain": [
       "<Figure size 432x288 with 1 Axes>"
      ]
     },
     "metadata": {
      "needs_background": "light"
     },
     "output_type": "display_data"
    }
   ],
   "source": [
    "x = (1,2,3,4)\n",
    "y = (1,4,9,16)\n",
    "\n",
    "plt.plot(x,y)\n",
    "plt.show()"
   ]
  },
  {
   "cell_type": "markdown",
   "id": "f636f78b-2fe1-4962-8273-8ecfd82db72b",
   "metadata": {},
   "source": [
    "Using numpy pythons numerical package we can quickly set up an array of numbers and plot them to the screen as folows"
   ]
  },
  {
   "cell_type": "code",
   "execution_count": 7,
   "id": "671aa40f",
   "metadata": {
    "tags": []
   },
   "outputs": [
    {
     "data": {
      "image/png": "[encoded data removed]",
      "text/plain": [
       "<Figure size 432x288 with 1 Axes>"
      ]
     },
     "metadata": {
      "needs_background": "light"
     },
     "output_type": "display_data"
    }
   ],
   "source": [
    "import numpy as np\n",
    "data = np.arange(10)\n",
    "plt.plot(data)\n",
    "plt.show()"
   ]
  },
  {
   "cell_type": "markdown",
   "id": "803c984f-eb04-4707-a6e0-b945890c32f6",
   "metadata": {},
   "source": [
    "### Saving your plot to disk\n",
    "\n",
    "If you wish to save your plot to disk pyplot supports a number of different file formats sucn as png, jpg, svg, etc and will output from the screen to a file on disk using the savefig command. To save it as a png file in your current working directory run the following command:"
   ]
  },
  {
   "cell_type": "code",
   "execution_count": 8,
   "id": "0345cb40-06cb-4bfb-abeb-17bdd3ec2266",
   "metadata": {},
   "outputs": [
    {
     "data": {
      "text/plain": [
       "<Figure size 432x288 with 0 Axes>"
      ]
     },
     "metadata": {},
     "output_type": "display_data"
    }
   ],
   "source": [
    "plt.savefig(\"./images/my_plot.png\")"
   ]
  },
  {
   "cell_type": "markdown",
   "id": "8b6dc6f7-c6a5-4a63-b4a1-3b9e02786e7d",
   "metadata": {},
   "source": [
    "check it is there by shelling out to the command line"
   ]
  },
  {
   "cell_type": "code",
   "execution_count": 14,
   "id": "14a5b9c2-d714-4a8f-bbfc-552f1d1208b3",
   "metadata": {},
   "outputs": [
    {
     "name": "stdout",
     "output_type": "stream",
     "text": [
      "-rw-r--r-- 1 mparry 1049089 1257 Dec 13 22:44 ./images/my_plot.png\n"
     ]
    }
   ],
   "source": [
    "!ls -l ./images/my_plot.png"
   ]
  },
  {
   "cell_type": "markdown",
   "id": "a91ae33c-0623-4ba3-847f-1de17156ddc4",
   "metadata": {},
   "source": [
    "***   "
   ]
  },
  {
   "cell_type": "markdown",
   "id": "be28b22f-9018-4d0b-886a-9d41a6e1581d",
   "metadata": {},
   "source": [
    "### Discuss subplots before continuing on?\n",
    "\n",
    "***   "
   ]
  },
  {
   "cell_type": "markdown",
   "id": "df7f0774-f96c-48e8-b728-b361711a7d45",
   "metadata": {},
   "source": [
    "## Interesting Plots"
   ]
  },
  {
   "cell_type": "code",
   "execution_count": 10,
   "id": "b5ea0593-7176-4838-8074-86d17c01eb23",
   "metadata": {},
   "outputs": [],
   "source": [
    "from numpy.random import default_rng\n",
    "rng = default_rng()\n",
    "data = rng.normal(0,1,1000)"
   ]
  },
  {
   "cell_type": "markdown",
   "id": "f0e2ee6d-d08c-4289-a85d-f7419c1adde4",
   "metadata": {},
   "source": [
    "#### Scatter Plots"
   ]
  },
  {
   "cell_type": "code",
   "execution_count": 11,
   "id": "8e158aa6-d3f1-4231-a0c8-0167909475fe",
   "metadata": {},
   "outputs": [
    {
     "data": {
      "text/plain": [
       "<matplotlib.collections.PathCollection at 0x2bd810243a0>"
      ]
     },
     "execution_count": 11,
     "metadata": {},
     "output_type": "execute_result"
    },
    {
     "data": {
      "image/png": "[encoded data removed]",
      "text/plain": [
       "<Figure size 432x288 with 1 Axes>"
      ]
     },
     "metadata": {
      "needs_background": "light"
     },
     "output_type": "display_data"
    }
   ],
   "source": [
    "x = rng.integers(1,10,50)\n",
    "y = rng.integers(1,10,50)\n",
    "\n",
    "plt.scatter(x,y)\n",
    "#plt.show()"
   ]
  },
  {
   "cell_type": "markdown",
   "id": "fe6fde35-d262-4ae3-aca8-3e5f22b72331",
   "metadata": {},
   "source": [
    "#### Histograms"
   ]
  },
  {
   "cell_type": "code",
   "execution_count": 12,
   "id": "d77910ef-7b35-4a05-8d65-bc783217e969",
   "metadata": {},
   "outputs": [
    {
     "data": {
      "text/plain": [
       "(array([  9.,  18.,  50., 133., 202., 231., 170., 111.,  59.,  17.]),\n",
       " array([-3.09426447, -2.52474763, -1.9552308 , -1.38571396, -0.81619712,\n",
       "        -0.24668028,  0.32283656,  0.8923534 ,  1.46187023,  2.03138707,\n",
       "         2.60090391]),\n",
       " <BarContainer object of 10 artists>)"
      ]
     },
     "execution_count": 12,
     "metadata": {},
     "output_type": "execute_result"
    },
    {
     "data": {
      "image/png": "[encoded data removed]",
      "text/plain": [
       "<Figure size 432x288 with 1 Axes>"
      ]
     },
     "metadata": {
      "needs_background": "light"
     },
     "output_type": "display_data"
    }
   ],
   "source": [
    "\n",
    "plt.hist(data)"
   ]
  },
  {
   "cell_type": "markdown",
   "id": "e7182072-e6f2-46a2-aba7-378d35be65d5",
   "metadata": {},
   "source": [
    "#### Boxplots"
   ]
  },
  {
   "cell_type": "code",
   "execution_count": 13,
   "id": "9571e037-0d5f-43c4-b1a0-85387960bc86",
   "metadata": {},
   "outputs": [
    {
     "data": {
      "text/plain": [
       "{'whiskers': [<matplotlib.lines.Line2D at 0x2bd81165100>,\n",
       "  <matplotlib.lines.Line2D at 0x2bd81165460>],\n",
       " 'caps': [<matplotlib.lines.Line2D at 0x2bd811657c0>,\n",
       "  <matplotlib.lines.Line2D at 0x2bd81165b20>],\n",
       " 'boxes': [<matplotlib.lines.Line2D at 0x2bd81155d60>],\n",
       " 'medians': [<matplotlib.lines.Line2D at 0x2bd81165e80>],\n",
       " 'fliers': [<matplotlib.lines.Line2D at 0x2bd81171220>],\n",
       " 'means': []}"
      ]
     },
     "execution_count": 13,
     "metadata": {},
     "output_type": "execute_result"
    },
    {
     "data": {
      "image/png": "[encoded data removed]",
      "text/plain": [
       "<Figure size 432x288 with 1 Axes>"
      ]
     },
     "metadata": {
      "needs_background": "light"
     },
     "output_type": "display_data"
    }
   ],
   "source": [
    "plt.boxplot(data)"
   ]
  },
  {
   "cell_type": "markdown",
   "id": "1797646c-d94f-46f2-a9d6-012632cc1d29",
   "metadata": {},
   "source": [
    "***   "
   ]
  },
  {
   "cell_type": "markdown",
   "id": "9b329537-f4b5-467f-bdbd-2d8129b41749",
   "metadata": {},
   "source": [
    "## Customising\n",
    "\n",
    "#### Colours\n",
    "#### Legend\n",
    "#### Titles\n",
    "#### Subplots\n",
    "#### Ticks\n",
    "***  "
   ]
  },
  {
   "cell_type": "markdown",
   "id": "fa043df3-052e-4a1f-a7b9-f53d558545ab",
   "metadata": {},
   "source": [
    "## References\n",
    "[1] Plotting and Visualization, Python for Data Analysis 2nd Edition, Wes MCKinney, O'Reilly,2018\n",
    "\n",
    "[2] John D.Hunter, https://en.wikipedia.org/wiki/John_D._Hunter_ accessed Dec2021\n",
    "\n",
    "[3] Python Data Science Handbook https://jakevdp.github.io/PythonDataScienceHandbook/04.00-introduction-to-matplotlib.html accessed Oct 2021\n",
    "[4] Matplotlib Pyplot Tutorial https://matplotlib.org/stable/tutorials/introductory/pyplot.html \n",
    "\n",
    "***  "
   ]
  },
  {
   "cell_type": "markdown",
   "id": "af6c5027-3426-4b4c-8717-3182767752a8",
   "metadata": {},
   "source": [
    "### Gallery\n",
    "This is a link to the matplotlib gallery \n",
    "https://matplotlib.org/stable/gallery/index.html\n",
    "\n",
    "***   "
   ]
  },
  {
   "cell_type": "markdown",
   "id": "3fb5efd2-9070-40e4-9b5d-650c89ca0cc0",
   "metadata": {},
   "source": [
    "## End"
   ]
  }
 ],
 "metadata": {
  "kernelspec": {
   "display_name": "Python 3",
   "language": "python",
   "name": "python3"
  },
  "language_info": {
   "codemirror_mode": {
    "name": "ipython",
    "version": 3
   },
   "file_extension": ".py",
   "mimetype": "text/x-python",
   "name": "python",
   "nbconvert_exporter": "python",
   "pygments_lexer": "ipython3",
   "version": "3.8.8"
  }
 },
 "nbformat": 4,
 "nbformat_minor": 5
}
