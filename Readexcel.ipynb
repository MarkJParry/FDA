{
 "cells": [
  {
   "cell_type": "markdown",
   "id": "9331b8a5-f764-4b8f-aeca-e8f3d11f16bb",
   "metadata": {},
   "source": [
    "# Download/Read an excel file from website"
   ]
  },
  {
   "cell_type": "code",
   "execution_count": 1,
   "id": "c6a70637-1e76-4ba5-82db-38146a64225a",
   "metadata": {},
   "outputs": [],
   "source": [
    "#Import the modules that we are going to use\n",
    "import requests as rq\n",
    "import pandas as pd"
   ]
  },
  {
   "cell_type": "code",
   "execution_count": 2,
   "id": "367844c8-1894-47b9-bb57-7d09f2e18c9a",
   "metadata": {},
   "outputs": [],
   "source": [
    "#Set up a variable for the url that contians the file\n",
    "url = r\"http://www2.cao.ie/points/CAOPointsCharts2020.xlsx\""
   ]
  },
  {
   "cell_type": "code",
   "execution_count": 3,
   "id": "ca6a7cda-3830-4533-8294-754074a3efef",
   "metadata": {},
   "outputs": [
    {
     "name": "stdout",
     "output_type": "stream",
     "text": [
      "                                    ADMISSION DATA 2020  \\\n",
      "0                                         End of Season   \n",
      "1            Level 8, 7 & 6 with ISCED Broad Field Code   \n",
      "2     The details  given are for general information...   \n",
      "3     Random * = Not all on this points score were o...   \n",
      "4           # = Test / Interview / Portfolio / Audition   \n",
      "...                                                 ...   \n",
      "1469                       Manufacturing and processing   \n",
      "1470  Information and Communication Technologies (ICTs)   \n",
      "1471  Information and Communication Technologies (ICTs)   \n",
      "1472                                  Personal services   \n",
      "1473                 Engineering and engineering trades   \n",
      "\n",
      "                                    Unnamed: 1 Unnamed: 2 Unnamed: 3  \\\n",
      "0                                          NaN        NaN        NaN   \n",
      "1                                          NaN        NaN        NaN   \n",
      "2                                          NaN        NaN        NaN   \n",
      "3                                          NaN        NaN        NaN   \n",
      "4                                          NaN        NaN        NaN   \n",
      "...                                        ...        ...        ...   \n",
      "1469                 Manufacturing Engineering      WD208        188   \n",
      "1470              Software Systems Development      WD210        279   \n",
      "1471                        Creative Computing      WD211        271   \n",
      "1472           Recreation and Sport Management      WD212        270   \n",
      "1473  Mechanical and Manufacturing Engineering      WD230        253   \n",
      "\n",
      "     Unnamed: 4 Unnamed: 5 Unnamed: 6 Unnamed: 7 Unnamed: 8 Unnamed: 9  ...  \\\n",
      "0           NaN        NaN        NaN        NaN        NaN        NaN  ...   \n",
      "1           NaN        NaN        NaN        NaN        NaN        NaN  ...   \n",
      "2           NaN        NaN        NaN        NaN        NaN        NaN  ...   \n",
      "3           NaN        NaN        NaN        NaN        NaN        NaN  ...   \n",
      "4           NaN        NaN        NaN        NaN        NaN        NaN  ...   \n",
      "...         ...        ...        ...        ...        ...        ...  ...   \n",
      "1469        NaN        NaN        NaN        188        NaN        339  ...   \n",
      "1470        NaN        NaN        NaN        279        NaN        337  ...   \n",
      "1471        NaN        NaN        NaN        271        NaN        318  ...   \n",
      "1472        NaN        NaN        NaN        270        NaN        349  ...   \n",
      "1473        NaN        NaN        NaN        253        NaN        369  ...   \n",
      "\n",
      "     Unnamed: 13 Unnamed: 14 Unnamed: 15 Unnamed: 16 Unnamed: 17 Unnamed: 18  \\\n",
      "0            NaN         NaN         NaN         NaN         NaN         NaN   \n",
      "1            NaN         NaN         NaN         NaN         NaN         NaN   \n",
      "2            NaN         NaN         NaN         NaN         NaN         NaN   \n",
      "3            NaN         NaN         NaN         NaN         NaN         NaN   \n",
      "4            NaN         NaN         NaN         NaN         NaN         NaN   \n",
      "...          ...         ...         ...         ...         ...         ...   \n",
      "1469         NaN         NaN         NaN         NaN         NaN         NaN   \n",
      "1470         NaN         NaN         NaN         NaN         NaN         NaN   \n",
      "1471         NaN         NaN         NaN         NaN         NaN         NaN   \n",
      "1472         NaN         NaN         NaN         NaN         NaN         NaN   \n",
      "1473         NaN         NaN         NaN         NaN         NaN         NaN   \n",
      "\n",
      "     Unnamed: 19 Unnamed: 20 Unnamed: 21 Unnamed: 22  \n",
      "0            NaN         NaN         NaN         NaN  \n",
      "1            NaN         NaN         NaN         NaN  \n",
      "2            NaN         NaN         NaN         NaN  \n",
      "3            NaN         NaN         NaN         NaN  \n",
      "4            NaN         NaN         NaN         NaN  \n",
      "...          ...         ...         ...         ...  \n",
      "1469         NaN         NaN         NaN         NaN  \n",
      "1470         NaN         NaN         NaN         NaN  \n",
      "1471         NaN         NaN         NaN         NaN  \n",
      "1472         NaN         NaN         NaN         NaN  \n",
      "1473         NaN         NaN         NaN         NaN  \n",
      "\n",
      "[1474 rows x 23 columns]\n"
     ]
    }
   ],
   "source": [
    "#Pull the spreadsheet into a dataframe\n",
    "df = pd.read_excel(url)\n",
    "#Have a look\n",
    "print(df)"
   ]
  },
  {
   "cell_type": "code",
   "execution_count": 4,
   "id": "57fa623d-5b98-4af1-b664-b3de22d11e10",
   "metadata": {},
   "outputs": [
    {
     "name": "stdout",
     "output_type": "stream",
     "text": [
      "1474\n"
     ]
    }
   ],
   "source": [
    "print(len(df))"
   ]
  },
  {
   "cell_type": "code",
   "execution_count": null,
   "id": "af928de1-7944-486b-8b70-2fcfd8c09956",
   "metadata": {},
   "outputs": [],
   "source": []
  }
 ],
 "metadata": {
  "kernelspec": {
   "display_name": "Python 3",
   "language": "python",
   "name": "python3"
  },
  "language_info": {
   "codemirror_mode": {
    "name": "ipython",
    "version": 3
   },
   "file_extension": ".py",
   "mimetype": "text/x-python",
   "name": "python",
   "nbconvert_exporter": "python",
   "pygments_lexer": "ipython3",
   "version": "3.8.8"
  }
 },
 "nbformat": 4,
 "nbformat_minor": 5
}
