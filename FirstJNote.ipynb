{
 "cells": [
  {
   "cell_type": "markdown",
   "id": "97ca0125-e964-4f09-a9d5-affd3ddde254",
   "metadata": {},
   "source": [
    "# First NoteBook\n",
    "***\n",
    "This is an scrap notebook for trying things out in \n",
    "<br> \n",
    "remember to cut and paste from this once poc and test finished inot project notebooks "
   ]
  },
  {
   "cell_type": "code",
   "execution_count": null,
   "id": "496e2d73-e022-418c-b717-bb22ffbfd5cb",
   "metadata": {},
   "outputs": [],
   "source": [
    "#comment python code\n",
    "i = 2\n",
    "j = 3\n",
    "k = i * j\n",
    "print (\"answer\",k)"
   ]
  },
  {
   "cell_type": "markdown",
   "id": "7ad6363d-dcfa-45eb-9522-5935def4c212",
   "metadata": {},
   "source": [
    "## markdown cell\n",
    "this is how to use a markdown cell"
   ]
  },
  {
   "cell_type": "markdown",
   "id": "342b7c10-d9ab-4a12-90c1-b250852e98a6",
   "metadata": {},
   "source": [
    "## trying out referencing\n",
    "\n",
    " \n",
    "Testing out reference links[^1]\n",
    "\n",
    "[^1]: This is the reference\n",
    "<br> \n",
    "The above works in the readme file but not here in jupyter - find out why"
   ]
  },
  {
   "cell_type": "markdown",
   "id": "184ca37b-6675-47b8-8290-9b31bf056592",
   "metadata": {},
   "source": [
    "### Trying out pypdf2\n",
    "***\n",
    "Trying to read pdf file from cao but page extraction is restricted "
   ]
  },
  {
   "cell_type": "code",
   "execution_count": null,
   "id": "ab151785-c8b5-4945-8739-aa53e9b3ab99",
   "metadata": {},
   "outputs": [],
   "source": [
    "import PyPDF2\n",
    "pdfFileObj = open(\"lc19pts.pdf\", \"rb\")\n",
    "pdfReader = PyPDF2.PdfFileReader(pdfFileObj)\n",
    "\n"
   ]
  },
  {
   "cell_type": "code",
   "execution_count": null,
   "id": "c03c22db-59a8-47d1-b760-2bfa6bc6bb69",
   "metadata": {},
   "outputs": [],
   "source": [
    "pdfReader.numPages\n"
   ]
  },
  {
   "cell_type": "code",
   "execution_count": null,
   "id": "450018e3-53b2-4980-bc70-3d02531f59d3",
   "metadata": {},
   "outputs": [],
   "source": [
    "pageObj = pdfReader.getPage(0)\n",
    "pdftext = pageObj.extractText()\n",
    "pdftext"
   ]
  },
  {
   "cell_type": "markdown",
   "id": "190a7e29-cc47-410a-876a-9bbeb0cae3cb",
   "metadata": {},
   "source": [
    "### Trying out tabula read pdf\n",
    "***"
   ]
  },
  {
   "cell_type": "markdown",
   "id": "f9c68a65-02e9-4388-b037-b4b4b85e65f1",
   "metadata": {},
   "source": [
    "Link to the documentation\n",
    "https://tabula-py.readthedocs.io/en/latest/"
   ]
  },
  {
   "cell_type": "code",
   "execution_count": 1,
   "id": "34444def-66fb-4b97-a74a-c5491dd9180e",
   "metadata": {},
   "outputs": [],
   "source": [
    "#set up the url where the pdf is held\n",
    "url = \"http://www2.cao.ie/points/lvl8_19.pdf\""
   ]
  },
  {
   "cell_type": "code",
   "execution_count": 2,
   "id": "f6464c40-7aa0-49dd-8bb7-aa3a027e2ca7",
   "metadata": {},
   "outputs": [],
   "source": [
    "import pandas as pd\n",
    "from tabula import read_pdf\n",
    "\n",
    "#read_pdf returns a list of dataframes\n",
    "df = read_pdf(url,pages='all',pandas_options={\"header\": None})"
   ]
  },
  {
   "cell_type": "code",
   "execution_count": null,
   "id": "e130a3f0-926e-4c9e-991d-b30509b66f8e",
   "metadata": {},
   "outputs": [],
   "source": [
    "#Had to install it - uncomment if needed - add this to requirements file\n",
    "#%pip install tabula-py"
   ]
  },
  {
   "cell_type": "code",
   "execution_count": 6,
   "id": "5b05ff52-b11a-4aea-9e4a-a37c1db07489",
   "metadata": {},
   "outputs": [
    {
     "data": {
      "text/plain": [
       "18"
      ]
     },
     "execution_count": 6,
     "metadata": {},
     "output_type": "execute_result"
    }
   ],
   "source": [
    "#see how many pages were returned\n",
    "\n",
    "len(df)"
   ]
  },
  {
   "cell_type": "code",
   "execution_count": 5,
   "id": "f02139fd-5d76-4292-8726-fdc548c35a0e",
   "metadata": {},
   "outputs": [
    {
     "name": "stdout",
     "output_type": "stream",
     "text": [
      "             0                                                  1    2    3\n",
      "0  Course Code                             INSTITUTION and COURSE  EOS  Mid\n",
      "1          NaN                    Athlone Institute of Technology  NaN  NaN\n",
      "2        AL801    Software Design with Virtual Reality and Gaming  304  328\n",
      "3        AL802               Software Design with Cloud Computing  301  306\n",
      "4        AL803  Software Design with Mobile Apps and Connected...  309  337\n",
      "       0                                                1    2      3\n",
      "0  CW258                       Cybercrime and IT Security  300  328.0\n",
      "1  CW268  Computing in Interactive Digital Art and Design  274  321.0\n",
      "2  CW438                           Construction (options)  271  308.0\n",
      "3  CW468                         Architectural Technology  252  290.0\n",
      "4  CW478                                Civil Engineering  348  383.0\n",
      "       0                               1    2      3\n",
      "0  CR500      Engineering (Common Entry)  381  424.0\n",
      "1  CR510  Sustainable Energy Engineering  319  343.0\n",
      "2  CR520          Biomedical Engineering  434  477.0\n",
      "3  CR560        Architectural Technology  288  332.0\n",
      "4  CR565           Interior Architecture  336  390.0\n",
      "       0                                          1    2      3\n",
      "0  CK412                       Agricultural Science  457  509.0\n",
      "1  CK502        Food Marketing and Entrepreneurship  433  456.0\n",
      "2  CK504                       Nutritional Sciences  492  509.0\n",
      "3  CK505                               Food Science  444  477.0\n",
      "4  CK506  International Development and Food Policy  367  410.0\n",
      "       0                                                  1     2      3\n",
      "0  DB569                              Business (Psychology)   279  338.0\n",
      "1    NaN                             Dublin City University   NaN    NaN\n",
      "2  DC001              Education - Early Childhood Education   398  424.0\n",
      "3  DC002                       Education - Primary Teaching  462*  485.0\n",
      "4  DC003  Education - Primary Teaching - Gaeltacht Appli...  #433  473.0\n",
      "       0                                            1    2      3\n",
      "0  DC217              Intellectual Disability Nursing  347  362.0\n",
      "1  DC218  Children`s and General Nursing (Integrated)  467  480.0\n",
      "2  DC230                  Economics, Politics and Law  400  431.0\n",
      "3  DC231                      International Relations  387  445.0\n",
      "4  DC232                        Law and Society (BCL)  453  487.0\n",
      "       0                                       1    2      3\n",
      "0  DT407                           Culinary Arts  271  342.0\n",
      "1  DT412                       Tourism Marketing  284  322.0\n",
      "2  DT413                        Event Management  356  389.0\n",
      "3  DT416               Culinary Entrepreneurship  275  339.0\n",
      "4  DT420  Nutraceuticals in Health and Nutrition  392  432.0\n",
      "       0                                              1    2      3\n",
      "0  GC402                 Business Studies (HRM, Dublin)  217  290.0\n",
      "1  GC403                                   Law (Dublin)  225  308.0\n",
      "2  GC405  International Hospitality Management (Dublin)  254  272.0\n",
      "3  GC407           Business Studies (Marketing, Dublin)  246  330.0\n",
      "4  GC430                     Computing Science (Dublin)  217  269.0\n",
      "       0                                                1       2       3\n",
      "0  TA328  Computing with Language (French/German/Spanish)     218     317\n",
      "1  TA329                    Computing with Data Analytics     218     296\n",
      "2    NaN               National College of Art and Design     NaN     NaN\n",
      "3  AD101           First Year Art & Design (Common Entry)  # +mat  ic 550\n",
      "4  AD102           Graphic Design and Moving Image Design  # +mat  ic 635\n",
      "       0                                                  1     2      3\n",
      "0  TR039                      Computer Science and Language   435  498.0\n",
      "1  TR040  Middle Eastern and European Languages and Cult...   485  518.0\n",
      "2  TR041                                           Religion   347  393.0\n",
      "3  TR051                           Medicine (HPAT required)  #730  739.0\n",
      "4  TR052                                     Dental Science  590*  602.0\n",
      "       0                                            1     2      3\n",
      "0  DN440         Biomedical, Health and Life Sciences  565*  579.0\n",
      "1  DN450                              General Nursing   398  420.0\n",
      "2  DN451  Children`s and General Nursing (Integrated)  462*  499.0\n",
      "3  DN452                                    Midwifery   409  452.0\n",
      "4  DN453                        Mental Health Nursing   379  403.0\n",
      "       0                                              1    2      3\n",
      "0  GA384         Event Management with Public Relations  209  289.0\n",
      "1  GA385                              Retail Management  219  319.0\n",
      "2  GA480                        Construction Management  260  312.0\n",
      "3  GA482  Quantity Surveying and Construction Economics  280  340.0\n",
      "4  GA483                       Architectural Technology  251  321.0\n",
      "       0                                                  1    2      3\n",
      "0  GY129                               Arts (International)  408  477.0\n",
      "1  GY130                                       Arts (Music)  400  444.0\n",
      "2  GY131           Arts (History and Globalisation Studies)  340  431.0\n",
      "3  GY132           Government (Politics, Economics and Law)  402  444.0\n",
      "4  GY133  Education (Computer Science and Mathematical  ...  401  466.0\n",
      "       0                                 1    2      3\n",
      "0  LY608            Mechanical Engineering  304  333.0\n",
      "1  LY618  Electronics and Embedded Systems  307  339.0\n",
      "2  LY708                 Applied Computing  300  348.0\n",
      "3  LY818            Science (Common Entry)  302  371.0\n",
      "4  LY828        Agriculture (Common Entry)  300  342.0\n",
      "       0                                             1    2      3\n",
      "0  LC362  Biotechnology and Biopharmaceutical Sciences  379  402.0\n",
      "1  LC371        Creative Broadcast and Film Production  298  339.0\n",
      "2  LC372               Music Technology and Production  321  369.0\n",
      "3  LC374   Renewable and Electrical Energy Engineering  317  368.0\n",
      "4  LC375       Industrial Automation & Robotic Systems  321  368.0\n",
      "       0                                                  1      2      3\n",
      "0  LM122  Creative Media and Interaction Design (Digital...    330  430.0\n",
      "1  LM123  Biological & Chemical Sciences (Biosci/Envir S...    412  455.0\n",
      "2  LM124  Mathematics (Math Science/Maths and Physics/Ec...  e)427  521.0\n",
      "3  LM125  Physics (Applied Physics/Mathematics and Physics)    405  509.0\n",
      "4  LM150                                    General Nursing   440*  463.0\n",
      "       0                                                  1    2      3\n",
      "0    NaN                     Institute of Technology, Sligo  NaN    NaN\n",
      "1  SG141                                           Business  252  317.0\n",
      "2  SG142  Business in International Marketing and Sales ...  270  388.0\n",
      "3  SG144  Business in International Marketing and Sales ...  280  388.0\n",
      "4  SG146                                         Accounting  307  347.0\n",
      "       0                                                  1     2      3\n",
      "0  TL881                                        Social Care   308  356.0\n",
      "1  TL889  Counselling with Addiction - Mature applicants...     #    NaN\n",
      "2  TL890              General Nursing and Mature Applicants   407  431.0\n",
      "3  TL891        Mental Health Nursing and Mature Applicants  367*  379.0\n",
      "4    NaN                  Waterford Institute of Technology   NaN    NaN\n"
     ]
    }
   ],
   "source": [
    "# read throught the returned pages and display the head of each page\n",
    "for i in range(len(df)):\n",
    "    print(df[i].head())\n"
   ]
  },
  {
   "cell_type": "markdown",
   "id": "afd982e5-1450-41d2-ad95-93b7b4226418",
   "metadata": {},
   "source": [
    "Read_pdf brings in a list of dataframes - one per page/table of document"
   ]
  },
  {
   "cell_type": "code",
   "execution_count": 7,
   "id": "d9779186-188a-4486-bd34-5aa4c60ad7db",
   "metadata": {},
   "outputs": [],
   "source": [
    "#access an individual page\n",
    "page=df[1]\n"
   ]
  },
  {
   "cell_type": "code",
   "execution_count": null,
   "id": "a1bd5bad-9682-439d-a5fe-0fef587bc4bd",
   "metadata": {},
   "outputs": [],
   "source": []
  },
  {
   "cell_type": "code",
   "execution_count": 8,
   "id": "0d27ea50-a7ae-46ff-bb78-cecdcf999449",
   "metadata": {},
   "outputs": [
    {
     "name": "stdout",
     "output_type": "stream",
     "text": [
      "        0                                                  1     2       3\n",
      "0   CW258                         Cybercrime and IT Security   300   328.0\n",
      "1   CW268    Computing in Interactive Digital Art and Design   274   321.0\n",
      "2   CW438                             Construction (options)   271   308.0\n",
      "3   CW468                           Architectural Technology   252   290.0\n",
      "4   CW478                                  Civil Engineering   348   383.0\n",
      "5   CW548                             Mechanical Engineering   310   351.0\n",
      "6   CW558                                 Electronic Systems   279   338.0\n",
      "7   CW568                              Aerospace Engineering   366   422.0\n",
      "8   CW578                            TV and Media Production   327   361.0\n",
      "9   CW708                                          Law - LLB   298   328.0\n",
      "10  CW728                          Product Design Innovation   286   355.0\n",
      "11  CW748                 Early Childhood Education and Care   265   338.0\n",
      "12  CW758  Applied Social Studies - Professional Social Care   290   319.0\n",
      "13  CW808                         Media and Public Relations   248   307.0\n",
      "14  CW848                   Digital Marketing with Analytics   279   307.0\n",
      "15  CW858  Sports Management and Coaching (options, portf...  #700   700.0\n",
      "16  CW908                                 Business (options)   260   307.0\n",
      "17  CW938                                  Business with Law   270   288.0\n",
      "18  CW948                                         Accounting   301   408.0\n",
      "19    NaN                      Carlow College, St. Patrick`s   NaN     NaN\n",
      "20  PC405            Social, Political and Community Studies   251   296.0\n",
      "21  PC410  Arts and Humanities (fulfils Teaching Council ...   203   289.0\n",
      "22  PC411  English and History (fulfils Teaching Council ...   168   289.0\n",
      "23    NaN                       Cork Institute of Technology   NaN     NaN\n",
      "24  CR105         Chemical and Biopharmaceutical Engineering   432   498.0\n",
      "25  CR106                               Software Development   351   393.0\n",
      "26  CR108                             Mechanical Engineering   425   487.0\n",
      "27  CR109                             Structural Engineering   341   467.0\n",
      "28  CR110      Automotive Business Management and Technology   318   347.0\n",
      "29  CR112                             Creative Digital Media   335   389.0\n",
      "30  CR116                                   Computer Systems   318   381.0\n",
      "31  CR121                  Music at CIT Cork School of Music  #633  1052.0\n",
      "32  CR125  Popular Music: Electric Bass Guitar at CIT Cor...  #972  1021.0\n",
      "33  CR126   Popular Music: Drums at CIT Cork School of Music  #878  1043.0\n",
      "34  CR127  Popular Music: Electric Guitar at CIT Cork Sch...  #584   761.0\n",
      "35  CR128  Popular Music: Keyboards at CIT Cork School of...  #839  1009.0\n",
      "36  CR129   Popular Music: Voice at CIT Cork School of Music  #857   927.0\n",
      "37  CR130                                    Musical Theatre  #500   600.0\n",
      "38  CR150                       Business Information Systems   326   371.0\n",
      "39  CR210  Contemporary Applied Art (Ceramics, Glass, Tex...  #979   979.0\n",
      "40  CR220  Fine Art at CIT Crawford College of Art and De...  #620   819.0\n",
      "41  CR225                         Photography with New Media  #920   920.0\n",
      "42  CR305                   Physical Sciences (Common Entry)   279   309.0\n",
      "43  CR310                                      IT Management   282   317.0\n",
      "44  CR320  Biomedical Science (Offered jointly by CIT and...   546   556.0\n",
      "45  CR325                       Pharmaceutical Biotechnology   388   422.0\n",
      "46  CR333                       Nutrition and Health Science   360   393.0\n",
      "47  CR335                 Biological Sciences (Common Entry)   381   419.0\n",
      "48  CR340        Analytical Chemistry with Quality Assurance   288   315.0\n",
      "49  CR360                             Instrument Engineering   291   329.0\n",
      "50  CR365   Environmental Science and Sustainable Technology   334   362.0\n",
      "51  CR370                                   Agri-Biosciences   408   431.0\n",
      "52  CR400                                         Accounting   316   389.0\n",
      "53  CR420                                          Marketing   288   329.0\n",
      "54  CR425               International Business with Language   300   392.0\n"
     ]
    }
   ],
   "source": [
    "print(page)\n"
   ]
  },
  {
   "cell_type": "code",
   "execution_count": null,
   "id": "8a5fd1c6-b0ac-49e1-8ed0-bd3b9427105d",
   "metadata": {},
   "outputs": [],
   "source": [
    "#todo - write out the original file as a copy, write the dataframe to a csv file for future use, check out df.concat"
   ]
  },
  {
   "cell_type": "code",
   "execution_count": null,
   "id": "4cf9df5b-9024-42bb-a4c0-a3d97239b261",
   "metadata": {},
   "outputs": [],
   "source": []
  }
 ],
 "metadata": {
  "kernelspec": {
   "display_name": "Python 3",
   "language": "python",
   "name": "python3"
  },
  "language_info": {
   "codemirror_mode": {
    "name": "ipython",
    "version": 3
   },
   "file_extension": ".py",
   "mimetype": "text/x-python",
   "name": "python",
   "nbconvert_exporter": "python",
   "pygments_lexer": "ipython3",
   "version": "3.8.8"
  }
 },
 "nbformat": 4,
 "nbformat_minor": 5
}
