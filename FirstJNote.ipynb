{
 "cells": [
  {
   "cell_type": "code",
   "execution_count": null,
   "id": "496e2d73-e022-418c-b717-bb22ffbfd5cb",
   "metadata": {},
   "outputs": [],
   "source": [
    "#comment python code\n",
    "i = 2\n",
    "j = 3\n",
    "k = i * j\n",
    "print (\"answer\",k)"
   ]
  },
  {
   "cell_type": "markdown",
   "id": "7ad6363d-dcfa-45eb-9522-5935def4c212",
   "metadata": {},
   "source": [
    "## title\n"
   ]
  },
  {
   "cell_type": "markdown",
   "id": "342b7c10-d9ab-4a12-90c1-b250852e98a6",
   "metadata": {},
   "source": [
    "Trying to read pdf file from cao but page extraction is restricted  \n",
    "Testing out reference links[^1]\n",
    "\n",
    "[^1]: This is the reference\n",
    "The above works in the readme file but not here in jupyter - find out why"
   ]
  },
  {
   "cell_type": "code",
   "execution_count": null,
   "id": "ab151785-c8b5-4945-8739-aa53e9b3ab99",
   "metadata": {},
   "outputs": [],
   "source": [
    "import PyPDF2\n",
    "pdfFileObj = open(\"lc19pts.pdf\", \"rb\")\n",
    "pdfReader = PyPDF2.PdfFileReader(pdfFileObj)\n",
    "\n"
   ]
  },
  {
   "cell_type": "code",
   "execution_count": null,
   "id": "c03c22db-59a8-47d1-b760-2bfa6bc6bb69",
   "metadata": {},
   "outputs": [],
   "source": [
    "pdfReader.numPages\n"
   ]
  },
  {
   "cell_type": "code",
   "execution_count": null,
   "id": "450018e3-53b2-4980-bc70-3d02531f59d3",
   "metadata": {},
   "outputs": [],
   "source": [
    "pageObj = pdfReader.getPage(0)\n",
    "pdftext = pageObj.extractText()\n",
    "pdftext"
   ]
  },
  {
   "cell_type": "markdown",
   "id": "f6a9ffd2-3a43-4e81-8757-7d1b1b00c276",
   "metadata": {},
   "source": [
    "[^1]: This is the reference"
   ]
  },
  {
   "cell_type": "markdown",
   "id": "f9c68a65-02e9-4388-b037-b4b4b85e65f1",
   "metadata": {},
   "source": [
    "https://tabula-py.readthedocs.io/en/latest/"
   ]
  },
  {
   "cell_type": "code",
   "execution_count": 25,
   "id": "f6464c40-7aa0-49dd-8bb7-aa3a027e2ca7",
   "metadata": {},
   "outputs": [
    {
     "name": "stderr",
     "output_type": "stream",
     "text": [
      "'pages' argument isn't specified.Will extract only from page 1 by default.\n"
     ]
    }
   ],
   "source": [
    "import pandas as pd\n",
    "from tabula import read_pdf\n",
    "df = read_pdf('lc19pts.pdf',pandas_options={\"header\": None})"
   ]
  },
  {
   "cell_type": "code",
   "execution_count": null,
   "id": "e130a3f0-926e-4c9e-991d-b30509b66f8e",
   "metadata": {},
   "outputs": [],
   "source": [
    "%pip install tabula-py"
   ]
  },
  {
   "cell_type": "code",
   "execution_count": 29,
   "id": "5b05ff52-b11a-4aea-9e4a-a37c1db07489",
   "metadata": {},
   "outputs": [
    {
     "data": {
      "text/plain": [
       "1"
      ]
     },
     "execution_count": 29,
     "metadata": {},
     "output_type": "execute_result"
    }
   ],
   "source": [
    "df\n",
    "len(df)\n",
    "\n",
    "\n"
   ]
  },
  {
   "cell_type": "markdown",
   "id": "c6209819-ae0d-4e55-aca3-e29f50853826",
   "metadata": {},
   "source": [
    "Read_csv brings in a list of dataframes - one per page/table of document"
   ]
  },
  {
   "cell_type": "code",
   "execution_count": 32,
   "id": "d9779186-188a-4486-bd34-5aa4c60ad7db",
   "metadata": {},
   "outputs": [],
   "source": [
    "yr1=df[0]"
   ]
  },
  {
   "cell_type": "code",
   "execution_count": 33,
   "id": "0d27ea50-a7ae-46ff-bb78-cecdcf999449",
   "metadata": {},
   "outputs": [
    {
     "data": {
      "text/html": [
       "<div>\n",
       "<style scoped>\n",
       "    .dataframe tbody tr th:only-of-type {\n",
       "        vertical-align: middle;\n",
       "    }\n",
       "\n",
       "    .dataframe tbody tr th {\n",
       "        vertical-align: top;\n",
       "    }\n",
       "\n",
       "    .dataframe thead th {\n",
       "        text-align: right;\n",
       "    }\n",
       "</style>\n",
       "<table border=\"1\" class=\"dataframe\">\n",
       "  <thead>\n",
       "    <tr style=\"text-align: right;\">\n",
       "      <th></th>\n",
       "      <th>0</th>\n",
       "      <th>1</th>\n",
       "      <th>2</th>\n",
       "      <th>3</th>\n",
       "      <th>4</th>\n",
       "    </tr>\n",
       "  </thead>\n",
       "  <tbody>\n",
       "    <tr>\n",
       "      <th>0</th>\n",
       "      <td>Candidates scoring 625 points</td>\n",
       "      <td>207</td>\n",
       "      <td>0.4%</td>\n",
       "      <td>207</td>\n",
       "      <td>0.4%</td>\n",
       "    </tr>\n",
       "    <tr>\n",
       "      <th>1</th>\n",
       "      <td>Candidates scoring from 600 - 624</td>\n",
       "      <td>574</td>\n",
       "      <td>1.0%</td>\n",
       "      <td>781</td>\n",
       "      <td>1.4%</td>\n",
       "    </tr>\n",
       "    <tr>\n",
       "      <th>2</th>\n",
       "      <td>Candidates scoring from 500 - 599</td>\n",
       "      <td>6,684</td>\n",
       "      <td>11.9%</td>\n",
       "      <td>7,465</td>\n",
       "      <td>13.3%</td>\n",
       "    </tr>\n",
       "    <tr>\n",
       "      <th>3</th>\n",
       "      <td>Candidates scoring from 400 - 499</td>\n",
       "      <td>13,489</td>\n",
       "      <td>24.1%</td>\n",
       "      <td>20,954</td>\n",
       "      <td>37.4%</td>\n",
       "    </tr>\n",
       "    <tr>\n",
       "      <th>4</th>\n",
       "      <td>Candidates scoring from 300 - 399</td>\n",
       "      <td>14,266</td>\n",
       "      <td>25.4%</td>\n",
       "      <td>35,220</td>\n",
       "      <td>62.8%</td>\n",
       "    </tr>\n",
       "  </tbody>\n",
       "</table>\n",
       "</div>"
      ],
      "text/plain": [
       "                                   0       1      2       3      4\n",
       "0      Candidates scoring 625 points     207   0.4%     207   0.4%\n",
       "1  Candidates scoring from 600 - 624     574   1.0%     781   1.4%\n",
       "2  Candidates scoring from 500 - 599   6,684  11.9%   7,465  13.3%\n",
       "3  Candidates scoring from 400 - 499  13,489  24.1%  20,954  37.4%\n",
       "4  Candidates scoring from 300 - 399  14,266  25.4%  35,220  62.8%"
      ]
     },
     "execution_count": 33,
     "metadata": {},
     "output_type": "execute_result"
    }
   ],
   "source": [
    "yr1.head()\n"
   ]
  },
  {
   "cell_type": "code",
   "execution_count": null,
   "id": "4cf9df5b-9024-42bb-a4c0-a3d97239b261",
   "metadata": {},
   "outputs": [],
   "source": []
  }
 ],
 "metadata": {
  "kernelspec": {
   "display_name": "Python 3",
   "language": "python",
   "name": "python3"
  },
  "language_info": {
   "codemirror_mode": {
    "name": "ipython",
    "version": 3
   },
   "file_extension": ".py",
   "mimetype": "text/x-python",
   "name": "python",
   "nbconvert_exporter": "python",
   "pygments_lexer": "ipython3",
   "version": "3.8.8"
  }
 },
 "nbformat": 4,
 "nbformat_minor": 5
}
