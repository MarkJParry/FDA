{
 "cells": [
  {
   "cell_type": "markdown",
   "id": "e9b5b999-68a0-45b6-a51b-d7012bb34a6b",
   "metadata": {},
   "source": [
    "# CAO Notebook"
   ]
  },
  {
   "cell_type": "markdown",
   "id": "a91f81c0-c211-4424-a14e-3f6a32a2de25",
   "metadata": {},
   "source": [
    "## Overview\n",
    "\n",
    "Reading in the 2019,2020,2021 cao files is done in three seperate notebooks  \n",
    "readhtml,readexcel,readpdf  \n",
    "\n",
    "combining the data is done in combine notebook\n",
    "\n",
    "\n",
    "These need to be combined into this one"
   ]
  },
  {
   "cell_type": "markdown",
   "id": "c09cf869-225f-4b43-a3de-4fa98c583b05",
   "metadata": {},
   "source": [
    "## References"
   ]
  },
  {
   "cell_type": "markdown",
   "id": "28935d90-9179-44f6-b668-338ce317351b",
   "metadata": {},
   "source": [
    "## End"
   ]
  },
  {
   "cell_type": "code",
   "execution_count": null,
   "id": "ee3d86e6-2d85-4e1c-b90a-d0631fb91ae0",
   "metadata": {},
   "outputs": [],
   "source": []
  }
 ],
 "metadata": {
  "kernelspec": {
   "display_name": "Python 3",
   "language": "python",
   "name": "python3"
  },
  "language_info": {
   "codemirror_mode": {
    "name": "ipython",
    "version": 3
   },
   "file_extension": ".py",
   "mimetype": "text/x-python",
   "name": "python",
   "nbconvert_exporter": "python",
   "pygments_lexer": "ipython3",
   "version": "3.8.8"
  }
 },
 "nbformat": 4,
 "nbformat_minor": 5
}
