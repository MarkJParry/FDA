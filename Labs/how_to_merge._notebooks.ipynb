{
 "cells": [
  {
   "cell_type": "markdown",
   "id": "e9b5b999-68a0-45b6-a51b-d7012bb34a6b",
   "metadata": {},
   "source": [
    "# How to merge notebooks "
   ]
  },
  {
   "cell_type": "markdown",
   "id": "a91f81c0-c211-4424-a14e-3f6a32a2de25",
   "metadata": {},
   "source": [
    "## Overview\n",
    "\n",
    "Reading in the 2019,2020,2021 cao files is done in three seperate notebooks  \n",
    "readhtml,readexcel,readpdf  \n",
    "\n",
    "combining the data is done in combineData notebook\n",
    "\n",
    "all of above notebooks are in the Labs folder\n",
    "\n",
    "\n",
    "These notebooks need to be combined into this one\n",
    "\n",
    "Here's how:\n",
    "- cat file1,file2,file3,file4 > file5\n",
    "- edit file5 using notepadd++ or similar text editor\n",
    "- search for kernelspec\n",
    "- add , to line directly above\n",
    "- remove lines from this down to cells \n",
    "- do not remove very last instance"
   ]
  },
  {
   "cell_type": "markdown",
   "id": "7ac8158f-d1ae-4fed-8d1b-4f892f0f17f5",
   "metadata": {},
   "source": [
    "Sample\n",
    "\n",
    "```\n",
    "      \n",
    "      {\n",
    "       \"cell_type\": \"code\",\n",
    "       \"execution_count\": null,\n",
    "       \"id\": \"b451cd3d-ad4f-4011-a243-c76fc0f04d31\",\n",
    "       \"metadata\": {},\n",
    "       \"outputs\": [],\n",
    "       \"source\": []\n",
    "      }\n",
    "     ],      <---- move this comma up to the closing bracket above\n",
    "     \"metadata\": {\n",
    "      \"kernelspec\": {\n",
    "       \"display_name\": \"Python 3\",\n",
    "       \"language\": \"python\",\n",
    "       \"name\": \"python3\"\n",
    "      },\n",
    "      \"language_info\": {\n",
    "       \"codemirror_mode\": {\n",
    "        \"name\": \"ipython\",\n",
    "        \"version\": 3\n",
    "       },\n",
    "       \"file_extension\": \".py\",\n",
    "       \"mimetype\": \"text/x-python\",\n",
    "       \"name\": \"python\",\n",
    "       \"nbconvert_exporter\": \"python\",\n",
    "       \"pygments_lexer\": \"ipython3\",\n",
    "       \"version\": \"3.8.8\"\n",
    "      }\n",
    "     },\n",
    "     \"nbformat\": 4,\n",
    "     \"nbformat_minor\": 5\n",
    "    }\n",
    "    {\n",
    "     \"cells\": [        <---- delete lines from \"move this\" comment to here including this line in the delete\n",
    "     \n",
    "````"
   ]
  },
  {
   "cell_type": "markdown",
   "id": "c09cf869-225f-4b43-a3de-4fa98c583b05",
   "metadata": {},
   "source": [
    "## References"
   ]
  },
  {
   "cell_type": "markdown",
   "id": "28935d90-9179-44f6-b668-338ce317351b",
   "metadata": {},
   "source": [
    "## End"
   ]
  }
 ],
 "metadata": {
  "kernelspec": {
   "display_name": "Python 3",
   "language": "python",
   "name": "python3"
  },
  "language_info": {
   "codemirror_mode": {
    "name": "ipython",
    "version": 3
   },
   "file_extension": ".py",
   "mimetype": "text/x-python",
   "name": "python",
   "nbconvert_exporter": "python",
   "pygments_lexer": "ipython3",
   "version": "3.8.8"
  }
 },
 "nbformat": 4,
 "nbformat_minor": 5
}
