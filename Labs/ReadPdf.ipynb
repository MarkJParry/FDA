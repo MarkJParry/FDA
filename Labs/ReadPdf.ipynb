{
 "cells": [
  {
   "cell_type": "code",
   "execution_count": null,
   "id": "bfd521a1-cc63-4a24-9b62-f68ae101e8f7",
   "metadata": {},
   "outputs": [],
   "source": []
  },
  {
   "cell_type": "markdown",
   "id": "b9d643d5-6573-4bd1-9b81-24a0ec0d8b0e",
   "metadata": {},
   "source": [
    "### Read in a pdf file using tabula read pdf\n",
    "***"
   ]
  },
  {
   "cell_type": "markdown",
   "id": "e61d4923-b9ae-44f7-bde7-5576f578039c",
   "metadata": {},
   "source": [
    "Link to the documentation\n",
    "https://tabula-py.readthedocs.io/en/latest/"
   ]
  },
  {
   "cell_type": "code",
   "execution_count": 1,
   "id": "48ee33ad-7112-4914-8a54-f27687ac20e8",
   "metadata": {},
   "outputs": [],
   "source": [
    "#set up the url where the pdf is held\n",
    "url = \"http://www2.cao.ie/points/lvl8_19.pdf\""
   ]
  },
  {
   "cell_type": "code",
   "execution_count": 2,
   "id": "5283cb5d-ae49-4ed3-aa45-b2f3a0a75b5d",
   "metadata": {},
   "outputs": [],
   "source": [
    "import pandas as pd\n",
    "from tabula import read_pdf\n",
    "\n",
    "#read_pdf returns a list of dataframes\n",
    "df = read_pdf(url,pages='all',pandas_options={\"header\": None})"
   ]
  },
  {
   "cell_type": "code",
   "execution_count": 3,
   "id": "240f505f-cc92-4d18-afff-bcd02ca29413",
   "metadata": {},
   "outputs": [],
   "source": [
    "#Had to install it - uncomment if needed - add this to requirements file\n",
    "#%pip install tabula-py"
   ]
  },
  {
   "cell_type": "code",
   "execution_count": 4,
   "id": "3540e409-d897-4f13-8afa-ea2c02d2e777",
   "metadata": {},
   "outputs": [
    {
     "data": {
      "text/plain": [
       "18"
      ]
     },
     "execution_count": 4,
     "metadata": {},
     "output_type": "execute_result"
    }
   ],
   "source": [
    "#see how many pages were returned\n",
    "\n",
    "len(df)"
   ]
  },
  {
   "cell_type": "code",
   "execution_count": 5,
   "id": "b7d95ffc-1f29-4d4f-9bef-db4a34c28e0f",
   "metadata": {},
   "outputs": [
    {
     "name": "stdout",
     "output_type": "stream",
     "text": [
      "             0                                                  1    2    3\n",
      "0  Course Code                             INSTITUTION and COURSE  EOS  Mid\n",
      "1          NaN                    Athlone Institute of Technology  NaN  NaN\n",
      "2        AL801    Software Design with Virtual Reality and Gaming  304  328\n",
      "3        AL802               Software Design with Cloud Computing  301  306\n",
      "4        AL803  Software Design with Mobile Apps and Connected...  309  337\n",
      "       0                                                1    2      3\n",
      "0  CW258                       Cybercrime and IT Security  300  328.0\n",
      "1  CW268  Computing in Interactive Digital Art and Design  274  321.0\n",
      "2  CW438                           Construction (options)  271  308.0\n",
      "3  CW468                         Architectural Technology  252  290.0\n",
      "4  CW478                                Civil Engineering  348  383.0\n",
      "       0                               1    2      3\n",
      "0  CR500      Engineering (Common Entry)  381  424.0\n",
      "1  CR510  Sustainable Energy Engineering  319  343.0\n",
      "2  CR520          Biomedical Engineering  434  477.0\n",
      "3  CR560        Architectural Technology  288  332.0\n",
      "4  CR565           Interior Architecture  336  390.0\n",
      "       0                                          1    2      3\n",
      "0  CK412                       Agricultural Science  457  509.0\n",
      "1  CK502        Food Marketing and Entrepreneurship  433  456.0\n",
      "2  CK504                       Nutritional Sciences  492  509.0\n",
      "3  CK505                               Food Science  444  477.0\n",
      "4  CK506  International Development and Food Policy  367  410.0\n",
      "       0                                                  1     2      3\n",
      "0  DB569                              Business (Psychology)   279  338.0\n",
      "1    NaN                             Dublin City University   NaN    NaN\n",
      "2  DC001              Education - Early Childhood Education   398  424.0\n",
      "3  DC002                       Education - Primary Teaching  462*  485.0\n",
      "4  DC003  Education - Primary Teaching - Gaeltacht Appli...  #433  473.0\n",
      "       0                                            1    2      3\n",
      "0  DC217              Intellectual Disability Nursing  347  362.0\n",
      "1  DC218  Children`s and General Nursing (Integrated)  467  480.0\n",
      "2  DC230                  Economics, Politics and Law  400  431.0\n",
      "3  DC231                      International Relations  387  445.0\n",
      "4  DC232                        Law and Society (BCL)  453  487.0\n",
      "       0                                       1    2      3\n",
      "0  DT407                           Culinary Arts  271  342.0\n",
      "1  DT412                       Tourism Marketing  284  322.0\n",
      "2  DT413                        Event Management  356  389.0\n",
      "3  DT416               Culinary Entrepreneurship  275  339.0\n",
      "4  DT420  Nutraceuticals in Health and Nutrition  392  432.0\n",
      "       0                                              1    2      3\n",
      "0  GC402                 Business Studies (HRM, Dublin)  217  290.0\n",
      "1  GC403                                   Law (Dublin)  225  308.0\n",
      "2  GC405  International Hospitality Management (Dublin)  254  272.0\n",
      "3  GC407           Business Studies (Marketing, Dublin)  246  330.0\n",
      "4  GC430                     Computing Science (Dublin)  217  269.0\n",
      "       0                                                1       2       3\n",
      "0  TA328  Computing with Language (French/German/Spanish)     218     317\n",
      "1  TA329                    Computing with Data Analytics     218     296\n",
      "2    NaN               National College of Art and Design     NaN     NaN\n",
      "3  AD101           First Year Art & Design (Common Entry)  # +mat  ic 550\n",
      "4  AD102           Graphic Design and Moving Image Design  # +mat  ic 635\n",
      "       0                                                  1     2      3\n",
      "0  TR039                      Computer Science and Language   435  498.0\n",
      "1  TR040  Middle Eastern and European Languages and Cult...   485  518.0\n",
      "2  TR041                                           Religion   347  393.0\n",
      "3  TR051                           Medicine (HPAT required)  #730  739.0\n",
      "4  TR052                                     Dental Science  590*  602.0\n",
      "       0                                            1     2      3\n",
      "0  DN440         Biomedical, Health and Life Sciences  565*  579.0\n",
      "1  DN450                              General Nursing   398  420.0\n",
      "2  DN451  Children`s and General Nursing (Integrated)  462*  499.0\n",
      "3  DN452                                    Midwifery   409  452.0\n",
      "4  DN453                        Mental Health Nursing   379  403.0\n",
      "       0                                              1    2      3\n",
      "0  GA384         Event Management with Public Relations  209  289.0\n",
      "1  GA385                              Retail Management  219  319.0\n",
      "2  GA480                        Construction Management  260  312.0\n",
      "3  GA482  Quantity Surveying and Construction Economics  280  340.0\n",
      "4  GA483                       Architectural Technology  251  321.0\n",
      "       0                                                  1    2      3\n",
      "0  GY129                               Arts (International)  408  477.0\n",
      "1  GY130                                       Arts (Music)  400  444.0\n",
      "2  GY131           Arts (History and Globalisation Studies)  340  431.0\n",
      "3  GY132           Government (Politics, Economics and Law)  402  444.0\n",
      "4  GY133  Education (Computer Science and Mathematical  ...  401  466.0\n",
      "       0                                 1    2      3\n",
      "0  LY608            Mechanical Engineering  304  333.0\n",
      "1  LY618  Electronics and Embedded Systems  307  339.0\n",
      "2  LY708                 Applied Computing  300  348.0\n",
      "3  LY818            Science (Common Entry)  302  371.0\n",
      "4  LY828        Agriculture (Common Entry)  300  342.0\n",
      "       0                                             1    2      3\n",
      "0  LC362  Biotechnology and Biopharmaceutical Sciences  379  402.0\n",
      "1  LC371        Creative Broadcast and Film Production  298  339.0\n",
      "2  LC372               Music Technology and Production  321  369.0\n",
      "3  LC374   Renewable and Electrical Energy Engineering  317  368.0\n",
      "4  LC375       Industrial Automation & Robotic Systems  321  368.0\n",
      "       0                                                  1      2      3\n",
      "0  LM122  Creative Media and Interaction Design (Digital...    330  430.0\n",
      "1  LM123  Biological & Chemical Sciences (Biosci/Envir S...    412  455.0\n",
      "2  LM124  Mathematics (Math Science/Maths and Physics/Ec...  e)427  521.0\n",
      "3  LM125  Physics (Applied Physics/Mathematics and Physics)    405  509.0\n",
      "4  LM150                                    General Nursing   440*  463.0\n",
      "       0                                                  1    2      3\n",
      "0    NaN                     Institute of Technology, Sligo  NaN    NaN\n",
      "1  SG141                                           Business  252  317.0\n",
      "2  SG142  Business in International Marketing and Sales ...  270  388.0\n",
      "3  SG144  Business in International Marketing and Sales ...  280  388.0\n",
      "4  SG146                                         Accounting  307  347.0\n",
      "       0                                                  1     2      3\n",
      "0  TL881                                        Social Care   308  356.0\n",
      "1  TL889  Counselling with Addiction - Mature applicants...     #    NaN\n",
      "2  TL890              General Nursing and Mature Applicants   407  431.0\n",
      "3  TL891        Mental Health Nursing and Mature Applicants  367*  379.0\n",
      "4    NaN                  Waterford Institute of Technology   NaN    NaN\n"
     ]
    }
   ],
   "source": [
    "# read throught the returned pages and display the head of each page\n",
    "for i in range(len(df)):\n",
    "    print(df[i].head())\n"
   ]
  },
  {
   "cell_type": "markdown",
   "id": "fdeb1a80-adc6-400c-abff-b539b1946a44",
   "metadata": {},
   "source": [
    "Read_pdf brings in a list of dataframes - one per page/table of document"
   ]
  },
  {
   "cell_type": "code",
   "execution_count": 6,
   "id": "9a00d07c-ca84-4833-81bb-86a3537244bc",
   "metadata": {},
   "outputs": [],
   "source": [
    "#access an individual page\n",
    "page=df[0]"
   ]
  },
  {
   "cell_type": "code",
   "execution_count": 7,
   "id": "983ca5fc-48d3-4699-ad57-c5a451042501",
   "metadata": {},
   "outputs": [
    {
     "name": "stdout",
     "output_type": "stream",
     "text": [
      "              0                                                  1     2    3\n",
      "0   Course Code                             INSTITUTION and COURSE   EOS  Mid\n",
      "1           NaN                    Athlone Institute of Technology   NaN  NaN\n",
      "2         AL801    Software Design with Virtual Reality and Gaming   304  328\n",
      "3         AL802               Software Design with Cloud Computing   301  306\n",
      "4         AL803  Software Design with Mobile Apps and Connected...   309  337\n",
      "5         AL805        Network Management and Cloud Infrastructure   329  442\n",
      "6         AL810                                 Quantity Surveying   307  349\n",
      "7         AL820                 Mechanical and Polymer Engineering   300  358\n",
      "8         AL830                                    General Nursing   410  429\n",
      "9         AL832                                Psychiatric Nursing   387  403\n",
      "10        AL836                       Nutrition and Health Science   352  383\n",
      "11        AL837            Sports Science with Exercise Physiology   351  392\n",
      "12        AL838                                      Biotechnology   302  372\n",
      "13        AL839                                       Microbiology   322  371\n",
      "14        AL840                            Pharmaceutical Sciences   328  411\n",
      "15        AL841                Athletic and Rehabilitation Therapy   423  430\n",
      "16        AL842                              Bioveterinary Science   310  366\n",
      "17        AL843               Physical Activity and Health Science   310  330\n",
      "18        AL850                                           Business   307  356\n",
      "19        AL851                                   Business and Law   301  341\n",
      "20        AL852               Accounting (with optional placement)   290  346\n",
      "21        AL853                                 Accounting and Law   305  320\n",
      "22        AL855  Hospitality Management (with International pla...   312  357\n",
      "23        AL857                                  Digital Marketing   300  360\n",
      "24        AL860                               Social Care Practice   309  338\n",
      "25        AL861             Animation and Illustration (portfolio)  #615  899\n",
      "26        AL863             Graphic and Digital Design (portfolio)  #703  898\n",
      "27        AL864                     Early Years Care and Education   307  348\n",
      "28        AL870                                 Applied Psychology   409  445\n",
      "29          NaN                    Institute of Technology, Carlow   NaN  NaN\n",
      "30        CW018                        Business (options, Wexford)   327  349\n",
      "31        CW028       Early Childhood Education and Care (Wexford)   252  308\n",
      "32        CW038                           Art (portfolio, Wexford)  #700  700\n",
      "33        CW058             Tourism and Event Management (Wexford)   252  262\n",
      "34        CW068  Applied Social Studies - Professional Social C...   251  280\n",
      "35        CW078  Sustainable Farm Management and Agribusiness (...   266  320\n",
      "36        CW088         Visual Communications and Design (Wexford)   309  345\n",
      "37        CW108                                  Science (options)   261  326\n",
      "38        CW128                             Brewing and Distilling   271  298\n",
      "39        CW178                            Sport Science (options)   399  424\n",
      "40        CW188          Sport Rehabilitation and Athletic Therapy   454  473\n",
      "41        CW208                         Computer Games Development   281  338\n",
      "42        CW238                               Software Development   300  343\n",
      "43        CW248                  Information Technology Management   307  357\n"
     ]
    }
   ],
   "source": [
    "print(page)"
   ]
  },
  {
   "cell_type": "code",
   "execution_count": 8,
   "id": "2ad2a6d1-a174-4424-b827-07bba6834818",
   "metadata": {},
   "outputs": [],
   "source": [
    "#todo - write out the original file as a copy, write the dataframe to a csv file for future use, check out df.concat"
   ]
  },
  {
   "cell_type": "code",
   "execution_count": 9,
   "id": "79e44c89-9f09-49af-825b-38fb9c1af015",
   "metadata": {},
   "outputs": [],
   "source": [
    "#loop through the pages and \n",
    "#drop any row that has Nan in the first column( column 0)\n",
    "for i in range(len(df)):\n",
    "    df[i].dropna(subset=[0],inplace=True)\n"
   ]
  },
  {
   "cell_type": "code",
   "execution_count": 10,
   "id": "371e7b90-4bb6-4c77-b515-445f7b2d3e8a",
   "metadata": {},
   "outputs": [
    {
     "name": "stdout",
     "output_type": "stream",
     "text": [
      "              0                                                  1     2    3\n",
      "0   Course Code                             INSTITUTION and COURSE   EOS  Mid\n",
      "2         AL801    Software Design with Virtual Reality and Gaming   304  328\n",
      "3         AL802               Software Design with Cloud Computing   301  306\n",
      "4         AL803  Software Design with Mobile Apps and Connected...   309  337\n",
      "5         AL805        Network Management and Cloud Infrastructure   329  442\n",
      "6         AL810                                 Quantity Surveying   307  349\n",
      "7         AL820                 Mechanical and Polymer Engineering   300  358\n",
      "8         AL830                                    General Nursing   410  429\n",
      "9         AL832                                Psychiatric Nursing   387  403\n",
      "10        AL836                       Nutrition and Health Science   352  383\n",
      "11        AL837            Sports Science with Exercise Physiology   351  392\n",
      "12        AL838                                      Biotechnology   302  372\n",
      "13        AL839                                       Microbiology   322  371\n",
      "14        AL840                            Pharmaceutical Sciences   328  411\n",
      "15        AL841                Athletic and Rehabilitation Therapy   423  430\n",
      "16        AL842                              Bioveterinary Science   310  366\n",
      "17        AL843               Physical Activity and Health Science   310  330\n",
      "18        AL850                                           Business   307  356\n",
      "19        AL851                                   Business and Law   301  341\n",
      "20        AL852               Accounting (with optional placement)   290  346\n",
      "21        AL853                                 Accounting and Law   305  320\n",
      "22        AL855  Hospitality Management (with International pla...   312  357\n",
      "23        AL857                                  Digital Marketing   300  360\n",
      "24        AL860                               Social Care Practice   309  338\n",
      "25        AL861             Animation and Illustration (portfolio)  #615  899\n",
      "26        AL863             Graphic and Digital Design (portfolio)  #703  898\n",
      "27        AL864                     Early Years Care and Education   307  348\n",
      "28        AL870                                 Applied Psychology   409  445\n",
      "30        CW018                        Business (options, Wexford)   327  349\n",
      "31        CW028       Early Childhood Education and Care (Wexford)   252  308\n",
      "32        CW038                           Art (portfolio, Wexford)  #700  700\n",
      "33        CW058             Tourism and Event Management (Wexford)   252  262\n",
      "34        CW068  Applied Social Studies - Professional Social C...   251  280\n",
      "35        CW078  Sustainable Farm Management and Agribusiness (...   266  320\n",
      "36        CW088         Visual Communications and Design (Wexford)   309  345\n",
      "37        CW108                                  Science (options)   261  326\n",
      "38        CW128                             Brewing and Distilling   271  298\n",
      "39        CW178                            Sport Science (options)   399  424\n",
      "40        CW188          Sport Rehabilitation and Athletic Therapy   454  473\n",
      "41        CW208                         Computer Games Development   281  338\n",
      "42        CW238                               Software Development   300  343\n",
      "43        CW248                  Information Technology Management   307  357\n"
     ]
    }
   ],
   "source": [
    "#have a look at the first page index 0 again to see if the this worked as expected\n",
    "#lines 1 and 29 should be gone these were the names of the institution\n",
    "print(df[0])"
   ]
  },
  {
   "cell_type": "code",
   "execution_count": 11,
   "id": "36b400f9-27af-4cae-8bc1-b39fa88a5420",
   "metadata": {},
   "outputs": [
    {
     "name": "stdout",
     "output_type": "stream",
     "text": [
      "        0                                                  1     2      3\n",
      "0   TL881                                        Social Care   308  356.0\n",
      "1   TL889  Counselling with Addiction - Mature applicants...     #    NaN\n",
      "2   TL890              General Nursing and Mature Applicants   407  431.0\n",
      "3   TL891        Mental Health Nursing and Mature Applicants  367*  379.0\n",
      "5   WD001                        Applied Computing (options)   279  358.0\n",
      "6   WD002                                  Science (options)   302  377.0\n",
      "7   WD005                          Health Sciences (options)   288  347.0\n",
      "8   WD006                        Exercise Sciences (options)   282  337.0\n",
      "9   WD007                              Engineering (options)   287  382.0\n",
      "10  WD025            Construction Management and Engineering   269  327.0\n",
      "11  WD027                                              Music  #290  317.0\n",
      "12  WD048                                 Business (options)   278  357.0\n",
      "13  WD084                                         Accounting   307  403.0\n",
      "14  WD091                             Hospitality Management   210  281.0\n",
      "15  WD116                                    General Nursing   413  430.0\n",
      "16  WD117                                Psychiatric Nursing   361  382.0\n",
      "17  WD120                    Intellectual Disability Nursing   338  359.0\n",
      "18  WD134                             International Business   289  350.0\n",
      "19  WD137                     Design (Visual Communications)   253  373.0\n",
      "20  WD140                                               Laws   290  352.0\n",
      "21  WD144                                       Architecture   283  385.0\n",
      "22  WD147                             Pharmaceutical Science   298  363.0\n",
      "23  WD148                                  Tourism Marketing   269  338.0\n",
      "24  WD149                            Early Childhood Studies   288  336.0\n",
      "25  WD150                           Criminal Justice Studies   271  311.0\n",
      "26  WD152                                         Visual Art   253  323.0\n",
      "27  WD161                    Computer Forensics and Security   262  401.0\n",
      "28  WD162                                 Quantity Surveying   260  320.0\n",
      "29  WD163                                         Psychology   390  429.0\n",
      "30  WD186                    Sports Coaching and Performance   276  327.0\n",
      "31  WD187                                     Social Science   271  321.0\n",
      "32  WD191                               Agricultural Science   378  421.0\n",
      "33  WD192                               Social Care Practice   279  323.0\n",
      "34  WD193                        Marketing and Digital Media   290  358.0\n",
      "35  WD194                                      Culinary Arts   235  331.0\n",
      "36  WD195  Architectural and Building Information Modelli...   266  305.0\n",
      "37  WD200                                     Arts (options)   221  296.0\n",
      "38  WD210                       Software Systems Development   271  329.0\n",
      "39  WD211                                 Creative Computing   275  322.0\n",
      "40  WD212                    Recreation and Sport Management   274  311.0\n",
      "41  WD230           Mechanical and Manufacturing Engineering   273  348.0\n"
     ]
    }
   ],
   "source": [
    "#have a look at the last page 18 index 17\n",
    "print(df[17])"
   ]
  },
  {
   "cell_type": "code",
   "execution_count": 12,
   "id": "1234c684-56d8-4154-a5fe-f207aa98ab2d",
   "metadata": {},
   "outputs": [],
   "source": [
    "#This is looking good now need to figure out how to merge it into one dataframe"
   ]
  },
  {
   "cell_type": "code",
   "execution_count": 13,
   "id": "81c744be-7cc1-42a1-ae74-e22aecf8c7a4",
   "metadata": {},
   "outputs": [],
   "source": [
    "#going to try using pandas concatenation function to join each frame into a new data frame\n",
    "#need to drop column indexes from initial dataframes when creating this new df\n",
    "#the returned df is already a list of dfs so we can do the following:\n",
    "df2019 = pd.concat(df, ignore_index=True)"
   ]
  },
  {
   "cell_type": "code",
   "execution_count": 14,
   "id": "8fddd1ce-7229-4c79-ba23-5ecdcaa16601",
   "metadata": {},
   "outputs": [
    {
     "data": {
      "text/plain": [
       "931"
      ]
     },
     "execution_count": 14,
     "metadata": {},
     "output_type": "execute_result"
    }
   ],
   "source": [
    "#check if above worked by getting the length of the new df\n",
    "len(df2019)\n"
   ]
  },
  {
   "cell_type": "code",
   "execution_count": 15,
   "id": "4ce62500-3ce2-4bfd-b448-c93c1adc680e",
   "metadata": {},
   "outputs": [
    {
     "data": {
      "text/html": [
       "<div>\n",
       "<style scoped>\n",
       "    .dataframe tbody tr th:only-of-type {\n",
       "        vertical-align: middle;\n",
       "    }\n",
       "\n",
       "    .dataframe tbody tr th {\n",
       "        vertical-align: top;\n",
       "    }\n",
       "\n",
       "    .dataframe thead th {\n",
       "        text-align: right;\n",
       "    }\n",
       "</style>\n",
       "<table border=\"1\" class=\"dataframe\">\n",
       "  <thead>\n",
       "    <tr style=\"text-align: right;\">\n",
       "      <th></th>\n",
       "      <th>0</th>\n",
       "      <th>1</th>\n",
       "      <th>2</th>\n",
       "      <th>3</th>\n",
       "    </tr>\n",
       "  </thead>\n",
       "  <tbody>\n",
       "    <tr>\n",
       "      <th>0</th>\n",
       "      <td>Course Code</td>\n",
       "      <td>INSTITUTION and COURSE</td>\n",
       "      <td>EOS</td>\n",
       "      <td>Mid</td>\n",
       "    </tr>\n",
       "    <tr>\n",
       "      <th>1</th>\n",
       "      <td>AL801</td>\n",
       "      <td>Software Design with Virtual Reality and Gaming</td>\n",
       "      <td>304</td>\n",
       "      <td>328</td>\n",
       "    </tr>\n",
       "    <tr>\n",
       "      <th>2</th>\n",
       "      <td>AL802</td>\n",
       "      <td>Software Design with Cloud Computing</td>\n",
       "      <td>301</td>\n",
       "      <td>306</td>\n",
       "    </tr>\n",
       "    <tr>\n",
       "      <th>3</th>\n",
       "      <td>AL803</td>\n",
       "      <td>Software Design with Mobile Apps and Connected...</td>\n",
       "      <td>309</td>\n",
       "      <td>337</td>\n",
       "    </tr>\n",
       "    <tr>\n",
       "      <th>4</th>\n",
       "      <td>AL805</td>\n",
       "      <td>Network Management and Cloud Infrastructure</td>\n",
       "      <td>329</td>\n",
       "      <td>442</td>\n",
       "    </tr>\n",
       "  </tbody>\n",
       "</table>\n",
       "</div>"
      ],
      "text/plain": [
       "             0                                                  1    2    3\n",
       "0  Course Code                             INSTITUTION and COURSE  EOS  Mid\n",
       "1        AL801    Software Design with Virtual Reality and Gaming  304  328\n",
       "2        AL802               Software Design with Cloud Computing  301  306\n",
       "3        AL803  Software Design with Mobile Apps and Connected...  309  337\n",
       "4        AL805        Network Management and Cloud Infrastructure  329  442"
      ]
     },
     "execution_count": 15,
     "metadata": {},
     "output_type": "execute_result"
    }
   ],
   "source": [
    "#Looks ok - going to check head and tail and do some cross checking with original file\n",
    "df2019.head()"
   ]
  },
  {
   "cell_type": "code",
   "execution_count": 16,
   "id": "982290ea-b2b8-4502-97be-69ef237e58b0",
   "metadata": {},
   "outputs": [
    {
     "data": {
      "text/html": [
       "<div>\n",
       "<style scoped>\n",
       "    .dataframe tbody tr th:only-of-type {\n",
       "        vertical-align: middle;\n",
       "    }\n",
       "\n",
       "    .dataframe tbody tr th {\n",
       "        vertical-align: top;\n",
       "    }\n",
       "\n",
       "    .dataframe thead th {\n",
       "        text-align: right;\n",
       "    }\n",
       "</style>\n",
       "<table border=\"1\" class=\"dataframe\">\n",
       "  <thead>\n",
       "    <tr style=\"text-align: right;\">\n",
       "      <th></th>\n",
       "      <th>0</th>\n",
       "      <th>1</th>\n",
       "      <th>2</th>\n",
       "      <th>3</th>\n",
       "    </tr>\n",
       "  </thead>\n",
       "  <tbody>\n",
       "    <tr>\n",
       "      <th>926</th>\n",
       "      <td>WD200</td>\n",
       "      <td>Arts (options)</td>\n",
       "      <td>221</td>\n",
       "      <td>296.0</td>\n",
       "    </tr>\n",
       "    <tr>\n",
       "      <th>927</th>\n",
       "      <td>WD210</td>\n",
       "      <td>Software Systems Development</td>\n",
       "      <td>271</td>\n",
       "      <td>329.0</td>\n",
       "    </tr>\n",
       "    <tr>\n",
       "      <th>928</th>\n",
       "      <td>WD211</td>\n",
       "      <td>Creative Computing</td>\n",
       "      <td>275</td>\n",
       "      <td>322.0</td>\n",
       "    </tr>\n",
       "    <tr>\n",
       "      <th>929</th>\n",
       "      <td>WD212</td>\n",
       "      <td>Recreation and Sport Management</td>\n",
       "      <td>274</td>\n",
       "      <td>311.0</td>\n",
       "    </tr>\n",
       "    <tr>\n",
       "      <th>930</th>\n",
       "      <td>WD230</td>\n",
       "      <td>Mechanical and Manufacturing Engineering</td>\n",
       "      <td>273</td>\n",
       "      <td>348.0</td>\n",
       "    </tr>\n",
       "  </tbody>\n",
       "</table>\n",
       "</div>"
      ],
      "text/plain": [
       "         0                                         1    2      3\n",
       "926  WD200                            Arts (options)  221  296.0\n",
       "927  WD210              Software Systems Development  271  329.0\n",
       "928  WD211                        Creative Computing  275  322.0\n",
       "929  WD212           Recreation and Sport Management  274  311.0\n",
       "930  WD230  Mechanical and Manufacturing Engineering  273  348.0"
      ]
     },
     "execution_count": 16,
     "metadata": {},
     "output_type": "execute_result"
    }
   ],
   "source": [
    "df2019.tail()"
   ]
  },
  {
   "cell_type": "code",
   "execution_count": 17,
   "id": "b1fbe7d3-b581-496e-b271-486aebcaf4b5",
   "metadata": {
    "tags": []
   },
   "outputs": [
    {
     "data": {
      "text/html": [
       "<div>\n",
       "<style scoped>\n",
       "    .dataframe tbody tr th:only-of-type {\n",
       "        vertical-align: middle;\n",
       "    }\n",
       "\n",
       "    .dataframe tbody tr th {\n",
       "        vertical-align: top;\n",
       "    }\n",
       "\n",
       "    .dataframe thead th {\n",
       "        text-align: right;\n",
       "    }\n",
       "</style>\n",
       "<table border=\"1\" class=\"dataframe\">\n",
       "  <thead>\n",
       "    <tr style=\"text-align: right;\">\n",
       "      <th></th>\n",
       "      <th>0</th>\n",
       "      <th>1</th>\n",
       "      <th>2</th>\n",
       "      <th>3</th>\n",
       "    </tr>\n",
       "  </thead>\n",
       "  <tbody>\n",
       "    <tr>\n",
       "      <th>0</th>\n",
       "      <td>Course Code</td>\n",
       "      <td>INSTITUTION and COURSE</td>\n",
       "      <td>EOS</td>\n",
       "      <td>Mid</td>\n",
       "    </tr>\n",
       "    <tr>\n",
       "      <th>1</th>\n",
       "      <td>AL801</td>\n",
       "      <td>Software Design with Virtual Reality and Gaming</td>\n",
       "      <td>304</td>\n",
       "      <td>328</td>\n",
       "    </tr>\n",
       "    <tr>\n",
       "      <th>2</th>\n",
       "      <td>AL802</td>\n",
       "      <td>Software Design with Cloud Computing</td>\n",
       "      <td>301</td>\n",
       "      <td>306</td>\n",
       "    </tr>\n",
       "    <tr>\n",
       "      <th>3</th>\n",
       "      <td>AL803</td>\n",
       "      <td>Software Design with Mobile Apps and Connected...</td>\n",
       "      <td>309</td>\n",
       "      <td>337</td>\n",
       "    </tr>\n",
       "    <tr>\n",
       "      <th>4</th>\n",
       "      <td>AL805</td>\n",
       "      <td>Network Management and Cloud Infrastructure</td>\n",
       "      <td>329</td>\n",
       "      <td>442</td>\n",
       "    </tr>\n",
       "    <tr>\n",
       "      <th>...</th>\n",
       "      <td>...</td>\n",
       "      <td>...</td>\n",
       "      <td>...</td>\n",
       "      <td>...</td>\n",
       "    </tr>\n",
       "    <tr>\n",
       "      <th>926</th>\n",
       "      <td>WD200</td>\n",
       "      <td>Arts (options)</td>\n",
       "      <td>221</td>\n",
       "      <td>296.0</td>\n",
       "    </tr>\n",
       "    <tr>\n",
       "      <th>927</th>\n",
       "      <td>WD210</td>\n",
       "      <td>Software Systems Development</td>\n",
       "      <td>271</td>\n",
       "      <td>329.0</td>\n",
       "    </tr>\n",
       "    <tr>\n",
       "      <th>928</th>\n",
       "      <td>WD211</td>\n",
       "      <td>Creative Computing</td>\n",
       "      <td>275</td>\n",
       "      <td>322.0</td>\n",
       "    </tr>\n",
       "    <tr>\n",
       "      <th>929</th>\n",
       "      <td>WD212</td>\n",
       "      <td>Recreation and Sport Management</td>\n",
       "      <td>274</td>\n",
       "      <td>311.0</td>\n",
       "    </tr>\n",
       "    <tr>\n",
       "      <th>930</th>\n",
       "      <td>WD230</td>\n",
       "      <td>Mechanical and Manufacturing Engineering</td>\n",
       "      <td>273</td>\n",
       "      <td>348.0</td>\n",
       "    </tr>\n",
       "  </tbody>\n",
       "</table>\n",
       "<p>931 rows × 4 columns</p>\n",
       "</div>"
      ],
      "text/plain": [
       "               0                                                  1    2  \\\n",
       "0    Course Code                             INSTITUTION and COURSE  EOS   \n",
       "1          AL801    Software Design with Virtual Reality and Gaming  304   \n",
       "2          AL802               Software Design with Cloud Computing  301   \n",
       "3          AL803  Software Design with Mobile Apps and Connected...  309   \n",
       "4          AL805        Network Management and Cloud Infrastructure  329   \n",
       "..           ...                                                ...  ...   \n",
       "926        WD200                                     Arts (options)  221   \n",
       "927        WD210                       Software Systems Development  271   \n",
       "928        WD211                                 Creative Computing  275   \n",
       "929        WD212                    Recreation and Sport Management  274   \n",
       "930        WD230           Mechanical and Manufacturing Engineering  273   \n",
       "\n",
       "         3  \n",
       "0      Mid  \n",
       "1      328  \n",
       "2      306  \n",
       "3      337  \n",
       "4      442  \n",
       "..     ...  \n",
       "926  296.0  \n",
       "927  329.0  \n",
       "928  322.0  \n",
       "929  311.0  \n",
       "930  348.0  \n",
       "\n",
       "[931 rows x 4 columns]"
      ]
     },
     "execution_count": 17,
     "metadata": {},
     "output_type": "execute_result"
    }
   ],
   "source": [
    "#have a look at the whole dataframe\n",
    "df2019"
   ]
  },
  {
   "cell_type": "code",
   "execution_count": 18,
   "id": "e6547891-c026-424b-a6e9-64669bdb1da5",
   "metadata": {},
   "outputs": [],
   "source": [
    "#ok need to drop column indexes from initial dataframes when creating this new df ( redo to demo ?  remove ignore_index from above if so)"
   ]
  },
  {
   "cell_type": "code",
   "execution_count": 19,
   "id": "1e026194-34ae-48d3-b6bd-ee40029bc1d8",
   "metadata": {},
   "outputs": [],
   "source": [
    "#save the dataframe as a csv file to disk\n",
    "df2019.to_csv('cao-points-main/data/cao-2019.csv',sep=',',encoding='utf-8')"
   ]
  },
  {
   "cell_type": "markdown",
   "id": "0c28ebc0-0360-4f83-ba2a-408c3add1421",
   "metadata": {},
   "source": [
    "***\n",
    "## End"
   ]
  },
  {
   "cell_type": "code",
   "execution_count": null,
   "id": "b6ba5289-dba9-4da3-b9dc-e20e6103ced0",
   "metadata": {},
   "outputs": [],
   "source": []
  }
 ],
 "metadata": {
  "kernelspec": {
   "display_name": "Python 3",
   "language": "python",
   "name": "python3"
  },
  "language_info": {
   "codemirror_mode": {
    "name": "ipython",
    "version": 3
   },
   "file_extension": ".py",
   "mimetype": "text/x-python",
   "name": "python",
   "nbconvert_exporter": "python",
   "pygments_lexer": "ipython3",
   "version": "3.8.8"
  }
 },
 "nbformat": 4,
 "nbformat_minor": 5
}
