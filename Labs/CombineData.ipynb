{
 "cells": [
  {
   "cell_type": "markdown",
   "id": "7cdf3486-b0ce-45b8-b9aa-6a778c339f24",
   "metadata": {},
   "source": [
    "## Combine data from CAO files\n",
    "\n",
    "Other notebooks in this repo have imported the data from the CAO website and saved to csv files.\n",
    "\n",
    "This notebook will use the csv files, tidy up the data and combine into a new dataframe.\n",
    "\n",
    "***"
   ]
  },
  {
   "cell_type": "code",
   "execution_count": 1,
   "id": "46efe0f8-d86e-472f-a364-42842692caa2",
   "metadata": {},
   "outputs": [],
   "source": [
    "#will be using pandas to read in the csv files and tidy up the data for a new combined dataframe\n",
    "import pandas as pd"
   ]
  },
  {
   "cell_type": "markdown",
   "id": "f67d4f4d-357c-49d3-b2ed-69865e6b8d60",
   "metadata": {},
   "source": [
    "<br>  \n",
    "\n",
    "**Bring in 2019 points**"
   ]
  },
  {
   "cell_type": "code",
   "execution_count": 2,
   "id": "ecd1c248-4ef8-43de-84e8-b387921cc1d3",
   "metadata": {},
   "outputs": [],
   "source": [
    "#read in the 2019 csv file to a dataframe\n",
    "df2019 = pd.read_csv(\"../data/cao-2019.csv\")"
   ]
  },
  {
   "cell_type": "code",
   "execution_count": 3,
   "id": "5d6e669f-2971-405f-bfd9-6f74d60d81f3",
   "metadata": {},
   "outputs": [
    {
     "data": {
      "text/html": [
       "<div>\n",
       "<style scoped>\n",
       "    .dataframe tbody tr th:only-of-type {\n",
       "        vertical-align: middle;\n",
       "    }\n",
       "\n",
       "    .dataframe tbody tr th {\n",
       "        vertical-align: top;\n",
       "    }\n",
       "\n",
       "    .dataframe thead th {\n",
       "        text-align: right;\n",
       "    }\n",
       "</style>\n",
       "<table border=\"1\" class=\"dataframe\">\n",
       "  <thead>\n",
       "    <tr style=\"text-align: right;\">\n",
       "      <th></th>\n",
       "      <th>Unnamed: 0</th>\n",
       "      <th>0</th>\n",
       "      <th>1</th>\n",
       "      <th>2</th>\n",
       "      <th>3</th>\n",
       "    </tr>\n",
       "  </thead>\n",
       "  <tbody>\n",
       "    <tr>\n",
       "      <th>0</th>\n",
       "      <td>0</td>\n",
       "      <td>Course Code</td>\n",
       "      <td>INSTITUTION and COURSE</td>\n",
       "      <td>EOS</td>\n",
       "      <td>Mid</td>\n",
       "    </tr>\n",
       "    <tr>\n",
       "      <th>1</th>\n",
       "      <td>1</td>\n",
       "      <td>AL801</td>\n",
       "      <td>Software Design with Virtual Reality and Gaming</td>\n",
       "      <td>304</td>\n",
       "      <td>328</td>\n",
       "    </tr>\n",
       "    <tr>\n",
       "      <th>2</th>\n",
       "      <td>2</td>\n",
       "      <td>AL802</td>\n",
       "      <td>Software Design with Cloud Computing</td>\n",
       "      <td>301</td>\n",
       "      <td>306</td>\n",
       "    </tr>\n",
       "    <tr>\n",
       "      <th>3</th>\n",
       "      <td>3</td>\n",
       "      <td>AL803</td>\n",
       "      <td>Software Design with Mobile Apps and Connected...</td>\n",
       "      <td>309</td>\n",
       "      <td>337</td>\n",
       "    </tr>\n",
       "    <tr>\n",
       "      <th>4</th>\n",
       "      <td>4</td>\n",
       "      <td>AL805</td>\n",
       "      <td>Network Management and Cloud Infrastructure</td>\n",
       "      <td>329</td>\n",
       "      <td>442</td>\n",
       "    </tr>\n",
       "  </tbody>\n",
       "</table>\n",
       "</div>"
      ],
      "text/plain": [
       "   Unnamed: 0            0                                                  1  \\\n",
       "0           0  Course Code                             INSTITUTION and COURSE   \n",
       "1           1        AL801    Software Design with Virtual Reality and Gaming   \n",
       "2           2        AL802               Software Design with Cloud Computing   \n",
       "3           3        AL803  Software Design with Mobile Apps and Connected...   \n",
       "4           4        AL805        Network Management and Cloud Infrastructure   \n",
       "\n",
       "     2    3  \n",
       "0  EOS  Mid  \n",
       "1  304  328  \n",
       "2  301  306  \n",
       "3  309  337  \n",
       "4  329  442  "
      ]
     },
     "execution_count": 3,
     "metadata": {},
     "output_type": "execute_result"
    }
   ],
   "source": [
    "#Have a look at the top of the dataframe\n",
    "df2019.head()"
   ]
  },
  {
   "cell_type": "code",
   "execution_count": 4,
   "id": "b6a52ab1-1c2a-493e-a402-4444b8ff33b4",
   "metadata": {},
   "outputs": [],
   "source": [
    "#need to use row 0 as the header\n",
    "df2019.columns = df2019.iloc[0]"
   ]
  },
  {
   "cell_type": "code",
   "execution_count": 5,
   "id": "410f8421-57ba-43fa-9b06-8c49fee91ce7",
   "metadata": {},
   "outputs": [],
   "source": [
    "#redo the dataframe without row 0 now that we have the columns\n",
    "df2019 = df2019[1:]"
   ]
  },
  {
   "cell_type": "code",
   "execution_count": 6,
   "id": "1f519bf9-8c12-451c-b604-4906626557bf",
   "metadata": {},
   "outputs": [
    {
     "data": {
      "text/html": [
       "<div>\n",
       "<style scoped>\n",
       "    .dataframe tbody tr th:only-of-type {\n",
       "        vertical-align: middle;\n",
       "    }\n",
       "\n",
       "    .dataframe tbody tr th {\n",
       "        vertical-align: top;\n",
       "    }\n",
       "\n",
       "    .dataframe thead th {\n",
       "        text-align: right;\n",
       "    }\n",
       "</style>\n",
       "<table border=\"1\" class=\"dataframe\">\n",
       "  <thead>\n",
       "    <tr style=\"text-align: right;\">\n",
       "      <th></th>\n",
       "      <th>0</th>\n",
       "      <th>Course Code</th>\n",
       "      <th>INSTITUTION and COURSE</th>\n",
       "      <th>EOS</th>\n",
       "      <th>Mid</th>\n",
       "    </tr>\n",
       "  </thead>\n",
       "  <tbody>\n",
       "    <tr>\n",
       "      <th>1</th>\n",
       "      <td>1</td>\n",
       "      <td>AL801</td>\n",
       "      <td>Software Design with Virtual Reality and Gaming</td>\n",
       "      <td>304</td>\n",
       "      <td>328</td>\n",
       "    </tr>\n",
       "    <tr>\n",
       "      <th>2</th>\n",
       "      <td>2</td>\n",
       "      <td>AL802</td>\n",
       "      <td>Software Design with Cloud Computing</td>\n",
       "      <td>301</td>\n",
       "      <td>306</td>\n",
       "    </tr>\n",
       "    <tr>\n",
       "      <th>3</th>\n",
       "      <td>3</td>\n",
       "      <td>AL803</td>\n",
       "      <td>Software Design with Mobile Apps and Connected...</td>\n",
       "      <td>309</td>\n",
       "      <td>337</td>\n",
       "    </tr>\n",
       "    <tr>\n",
       "      <th>4</th>\n",
       "      <td>4</td>\n",
       "      <td>AL805</td>\n",
       "      <td>Network Management and Cloud Infrastructure</td>\n",
       "      <td>329</td>\n",
       "      <td>442</td>\n",
       "    </tr>\n",
       "    <tr>\n",
       "      <th>5</th>\n",
       "      <td>5</td>\n",
       "      <td>AL810</td>\n",
       "      <td>Quantity Surveying</td>\n",
       "      <td>307</td>\n",
       "      <td>349</td>\n",
       "    </tr>\n",
       "  </tbody>\n",
       "</table>\n",
       "</div>"
      ],
      "text/plain": [
       "0  0 Course Code                             INSTITUTION and COURSE  EOS  Mid\n",
       "1  1       AL801    Software Design with Virtual Reality and Gaming  304  328\n",
       "2  2       AL802               Software Design with Cloud Computing  301  306\n",
       "3  3       AL803  Software Design with Mobile Apps and Connected...  309  337\n",
       "4  4       AL805        Network Management and Cloud Infrastructure  329  442\n",
       "5  5       AL810                                 Quantity Surveying  307  349"
      ]
     },
     "execution_count": 6,
     "metadata": {},
     "output_type": "execute_result"
    }
   ],
   "source": [
    "#have a look\n",
    "df2019.head()"
   ]
  },
  {
   "cell_type": "code",
   "execution_count": 7,
   "id": "16e7c65b-bbfb-454f-bc60-dbc16d393b9e",
   "metadata": {},
   "outputs": [
    {
     "data": {
      "text/html": [
       "<div>\n",
       "<style scoped>\n",
       "    .dataframe tbody tr th:only-of-type {\n",
       "        vertical-align: middle;\n",
       "    }\n",
       "\n",
       "    .dataframe tbody tr th {\n",
       "        vertical-align: top;\n",
       "    }\n",
       "\n",
       "    .dataframe thead th {\n",
       "        text-align: right;\n",
       "    }\n",
       "</style>\n",
       "<table border=\"1\" class=\"dataframe\">\n",
       "  <thead>\n",
       "    <tr style=\"text-align: right;\">\n",
       "      <th></th>\n",
       "      <th>0</th>\n",
       "      <th>Course Code</th>\n",
       "      <th>INSTITUTION and COURSE</th>\n",
       "      <th>EOS</th>\n",
       "      <th>Mid</th>\n",
       "    </tr>\n",
       "  </thead>\n",
       "  <tbody>\n",
       "    <tr>\n",
       "      <th>1</th>\n",
       "      <td>1</td>\n",
       "      <td>AL801</td>\n",
       "      <td>Software Design with Virtual Reality and Gaming</td>\n",
       "      <td>304</td>\n",
       "      <td>328</td>\n",
       "    </tr>\n",
       "    <tr>\n",
       "      <th>2</th>\n",
       "      <td>2</td>\n",
       "      <td>AL802</td>\n",
       "      <td>Software Design with Cloud Computing</td>\n",
       "      <td>301</td>\n",
       "      <td>306</td>\n",
       "    </tr>\n",
       "    <tr>\n",
       "      <th>3</th>\n",
       "      <td>3</td>\n",
       "      <td>AL803</td>\n",
       "      <td>Software Design with Mobile Apps and Connected...</td>\n",
       "      <td>309</td>\n",
       "      <td>337</td>\n",
       "    </tr>\n",
       "    <tr>\n",
       "      <th>4</th>\n",
       "      <td>4</td>\n",
       "      <td>AL805</td>\n",
       "      <td>Network Management and Cloud Infrastructure</td>\n",
       "      <td>329</td>\n",
       "      <td>442</td>\n",
       "    </tr>\n",
       "    <tr>\n",
       "      <th>5</th>\n",
       "      <td>5</td>\n",
       "      <td>AL810</td>\n",
       "      <td>Quantity Surveying</td>\n",
       "      <td>307</td>\n",
       "      <td>349</td>\n",
       "    </tr>\n",
       "  </tbody>\n",
       "</table>\n",
       "</div>"
      ],
      "text/plain": [
       "0  0 Course Code                             INSTITUTION and COURSE  EOS  Mid\n",
       "1  1       AL801    Software Design with Virtual Reality and Gaming  304  328\n",
       "2  2       AL802               Software Design with Cloud Computing  301  306\n",
       "3  3       AL803  Software Design with Mobile Apps and Connected...  309  337\n",
       "4  4       AL805        Network Management and Cloud Infrastructure  329  442\n",
       "5  5       AL810                                 Quantity Surveying  307  349"
      ]
     },
     "execution_count": 7,
     "metadata": {},
     "output_type": "execute_result"
    }
   ],
   "source": [
    "#look again\n",
    "df2019.head()"
   ]
  },
  {
   "cell_type": "code",
   "execution_count": 8,
   "id": "46413282-362a-40aa-a2c5-9cfb337cd54e",
   "metadata": {},
   "outputs": [
    {
     "data": {
      "text/plain": [
       "0\n",
       "0                         930\n",
       "Course Code               930\n",
       "INSTITUTION and COURSE    930\n",
       "EOS                       926\n",
       "Mid                       915\n",
       "dtype: int64"
      ]
     },
     "execution_count": 8,
     "metadata": {},
     "output_type": "execute_result"
    }
   ],
   "source": [
    "#count the number of courses\n",
    "df2019.count()"
   ]
  },
  {
   "cell_type": "code",
   "execution_count": 9,
   "id": "a4a91da0",
   "metadata": {},
   "outputs": [],
   "source": [
    "#renaming columns for consistency with other years\n",
    "df2019.columns=['Not Needed','Code','Course','Round1','Round2']"
   ]
  },
  {
   "cell_type": "markdown",
   "id": "7188469d-63f0-40e9-a619-dec2637c8115",
   "metadata": {},
   "source": [
    "*** "
   ]
  },
  {
   "cell_type": "markdown",
   "id": "2fb2fcdf-d3d6-4a1a-98e5-91082f96eaf8",
   "metadata": {},
   "source": [
    "<br>  \n",
    "\n",
    "**Bring in 2020 points**"
   ]
  },
  {
   "cell_type": "code",
   "execution_count": 10,
   "id": "de1ed070-a005-47d6-b717-2df7adf61529",
   "metadata": {},
   "outputs": [],
   "source": [
    "#read in the 2020 csv file to a dataframe\n",
    "df2020 = pd.read_csv(\"../data/cao-2020.csv\")"
   ]
  },
  {
   "cell_type": "code",
   "execution_count": 11,
   "id": "ab90199f-3013-4966-b5c0-ed7aa1c65362",
   "metadata": {},
   "outputs": [
    {
     "data": {
      "text/html": [
       "<div>\n",
       "<style scoped>\n",
       "    .dataframe tbody tr th:only-of-type {\n",
       "        vertical-align: middle;\n",
       "    }\n",
       "\n",
       "    .dataframe tbody tr th {\n",
       "        vertical-align: top;\n",
       "    }\n",
       "\n",
       "    .dataframe thead th {\n",
       "        text-align: right;\n",
       "    }\n",
       "</style>\n",
       "<table border=\"1\" class=\"dataframe\">\n",
       "  <thead>\n",
       "    <tr style=\"text-align: right;\">\n",
       "      <th></th>\n",
       "      <th>Unnamed: 0</th>\n",
       "      <th>COURSE TITLE</th>\n",
       "      <th>COURSE CODE2</th>\n",
       "      <th>R1 POINTS</th>\n",
       "      <th>R2 POINTS</th>\n",
       "      <th>LEVEL</th>\n",
       "    </tr>\n",
       "  </thead>\n",
       "  <tbody>\n",
       "    <tr>\n",
       "      <th>0</th>\n",
       "      <td>0</td>\n",
       "      <td>International Business</td>\n",
       "      <td>AC120</td>\n",
       "      <td>209</td>\n",
       "      <td>NaN</td>\n",
       "      <td>8</td>\n",
       "    </tr>\n",
       "    <tr>\n",
       "      <th>1</th>\n",
       "      <td>1</td>\n",
       "      <td>Liberal Arts</td>\n",
       "      <td>AC137</td>\n",
       "      <td>252</td>\n",
       "      <td>NaN</td>\n",
       "      <td>8</td>\n",
       "    </tr>\n",
       "    <tr>\n",
       "      <th>2</th>\n",
       "      <td>2</td>\n",
       "      <td>First Year Art &amp; Design (Common Entry,portfolio)</td>\n",
       "      <td>AD101</td>\n",
       "      <td>#+matric</td>\n",
       "      <td>NaN</td>\n",
       "      <td>8</td>\n",
       "    </tr>\n",
       "    <tr>\n",
       "      <th>3</th>\n",
       "      <td>3</td>\n",
       "      <td>Graphic Design and Moving Image Design (portfo...</td>\n",
       "      <td>AD102</td>\n",
       "      <td>#+matric</td>\n",
       "      <td>NaN</td>\n",
       "      <td>8</td>\n",
       "    </tr>\n",
       "    <tr>\n",
       "      <th>4</th>\n",
       "      <td>4</td>\n",
       "      <td>Textile &amp; Surface Design and Jewellery &amp; Objec...</td>\n",
       "      <td>AD103</td>\n",
       "      <td>#+matric</td>\n",
       "      <td>NaN</td>\n",
       "      <td>8</td>\n",
       "    </tr>\n",
       "  </tbody>\n",
       "</table>\n",
       "</div>"
      ],
      "text/plain": [
       "   Unnamed: 0                                       COURSE TITLE COURSE CODE2  \\\n",
       "0           0                             International Business        AC120   \n",
       "1           1                                       Liberal Arts        AC137   \n",
       "2           2   First Year Art & Design (Common Entry,portfolio)        AD101   \n",
       "3           3  Graphic Design and Moving Image Design (portfo...        AD102   \n",
       "4           4  Textile & Surface Design and Jewellery & Objec...        AD103   \n",
       "\n",
       "  R1 POINTS R2 POINTS  LEVEL  \n",
       "0       209       NaN      8  \n",
       "1       252       NaN      8  \n",
       "2  #+matric       NaN      8  \n",
       "3  #+matric       NaN      8  \n",
       "4  #+matric       NaN      8  "
      ]
     },
     "execution_count": 11,
     "metadata": {},
     "output_type": "execute_result"
    }
   ],
   "source": [
    "#Have a look at the top of the dataframe\n",
    "df2020.head()"
   ]
  },
  {
   "cell_type": "code",
   "execution_count": 12,
   "id": "52bbe9d3-6d54-4ceb-a0a2-0bfd5a645a1d",
   "metadata": {},
   "outputs": [],
   "source": [
    "#renaming columns for consistency with other years\n",
    "df2020.columns=['Not needed','Course','Code','Round1','Round2','Level']"
   ]
  },
  {
   "cell_type": "code",
   "execution_count": 13,
   "id": "df316499-be1a-4119-b25f-d10ad6cd2d38",
   "metadata": {},
   "outputs": [],
   "source": [
    "#filter on level 8 courses and remove\n",
    "df2020 = df2020.loc[df2020['Level']==8]"
   ]
  },
  {
   "cell_type": "code",
   "execution_count": 14,
   "id": "98f3da04-872f-4754-855f-818193bc1869",
   "metadata": {},
   "outputs": [
    {
     "data": {
      "text/plain": [
       "Not needed    1027\n",
       "Course        1027\n",
       "Code          1027\n",
       "Round1        1008\n",
       "Round2         212\n",
       "Level         1027\n",
       "dtype: int64"
      ]
     },
     "execution_count": 14,
     "metadata": {},
     "output_type": "execute_result"
    }
   ],
   "source": [
    "#determine number of rows\n",
    "df2020.count()"
   ]
  },
  {
   "cell_type": "code",
   "execution_count": 15,
   "id": "37a01994-c20c-44e5-b343-8c7070c562f3",
   "metadata": {},
   "outputs": [
    {
     "data": {
      "text/html": [
       "<div>\n",
       "<style scoped>\n",
       "    .dataframe tbody tr th:only-of-type {\n",
       "        vertical-align: middle;\n",
       "    }\n",
       "\n",
       "    .dataframe tbody tr th {\n",
       "        vertical-align: top;\n",
       "    }\n",
       "\n",
       "    .dataframe thead th {\n",
       "        text-align: right;\n",
       "    }\n",
       "</style>\n",
       "<table border=\"1\" class=\"dataframe\">\n",
       "  <thead>\n",
       "    <tr style=\"text-align: right;\">\n",
       "      <th></th>\n",
       "      <th>Not needed</th>\n",
       "      <th>Course</th>\n",
       "      <th>Code</th>\n",
       "      <th>Round1</th>\n",
       "      <th>Round2</th>\n",
       "      <th>Level</th>\n",
       "    </tr>\n",
       "  </thead>\n",
       "  <tbody>\n",
       "    <tr>\n",
       "      <th>0</th>\n",
       "      <td>0</td>\n",
       "      <td>International Business</td>\n",
       "      <td>AC120</td>\n",
       "      <td>209</td>\n",
       "      <td>NaN</td>\n",
       "      <td>8</td>\n",
       "    </tr>\n",
       "    <tr>\n",
       "      <th>1</th>\n",
       "      <td>1</td>\n",
       "      <td>Liberal Arts</td>\n",
       "      <td>AC137</td>\n",
       "      <td>252</td>\n",
       "      <td>NaN</td>\n",
       "      <td>8</td>\n",
       "    </tr>\n",
       "    <tr>\n",
       "      <th>2</th>\n",
       "      <td>2</td>\n",
       "      <td>First Year Art &amp; Design (Common Entry,portfolio)</td>\n",
       "      <td>AD101</td>\n",
       "      <td>#+matric</td>\n",
       "      <td>NaN</td>\n",
       "      <td>8</td>\n",
       "    </tr>\n",
       "    <tr>\n",
       "      <th>3</th>\n",
       "      <td>3</td>\n",
       "      <td>Graphic Design and Moving Image Design (portfo...</td>\n",
       "      <td>AD102</td>\n",
       "      <td>#+matric</td>\n",
       "      <td>NaN</td>\n",
       "      <td>8</td>\n",
       "    </tr>\n",
       "    <tr>\n",
       "      <th>4</th>\n",
       "      <td>4</td>\n",
       "      <td>Textile &amp; Surface Design and Jewellery &amp; Objec...</td>\n",
       "      <td>AD103</td>\n",
       "      <td>#+matric</td>\n",
       "      <td>NaN</td>\n",
       "      <td>8</td>\n",
       "    </tr>\n",
       "  </tbody>\n",
       "</table>\n",
       "</div>"
      ],
      "text/plain": [
       "   Not needed                                             Course   Code  \\\n",
       "0           0                             International Business  AC120   \n",
       "1           1                                       Liberal Arts  AC137   \n",
       "2           2   First Year Art & Design (Common Entry,portfolio)  AD101   \n",
       "3           3  Graphic Design and Moving Image Design (portfo...  AD102   \n",
       "4           4  Textile & Surface Design and Jewellery & Objec...  AD103   \n",
       "\n",
       "     Round1 Round2  Level  \n",
       "0       209    NaN      8  \n",
       "1       252    NaN      8  \n",
       "2  #+matric    NaN      8  \n",
       "3  #+matric    NaN      8  \n",
       "4  #+matric    NaN      8  "
      ]
     },
     "execution_count": 15,
     "metadata": {},
     "output_type": "execute_result"
    }
   ],
   "source": [
    "#look again\n",
    "df2020.head()"
   ]
  },
  {
   "cell_type": "markdown",
   "id": "aaca3c37-c066-4281-a6d1-51c8293e53b1",
   "metadata": {},
   "source": [
    "***"
   ]
  },
  {
   "cell_type": "markdown",
   "id": "04d0417f-edca-465e-a4ff-47f969e2f0a5",
   "metadata": {},
   "source": [
    "<br>  \n",
    "\n",
    "**Bring in 2021 points**"
   ]
  },
  {
   "cell_type": "code",
   "execution_count": 16,
   "id": "60af541e-09a2-48d3-a53d-d9d2a3b7cdc6",
   "metadata": {},
   "outputs": [],
   "source": [
    "#read in the 2021 csv file to a dataframe\n",
    "df2021 = pd.read_csv(\"../data/cao-2021.csv\")"
   ]
  },
  {
   "cell_type": "code",
   "execution_count": 17,
   "id": "909a1c46-fe1a-4010-b500-3bfe81c83b4e",
   "metadata": {},
   "outputs": [
    {
     "data": {
      "text/html": [
       "<div>\n",
       "<style scoped>\n",
       "    .dataframe tbody tr th:only-of-type {\n",
       "        vertical-align: middle;\n",
       "    }\n",
       "\n",
       "    .dataframe tbody tr th {\n",
       "        vertical-align: top;\n",
       "    }\n",
       "\n",
       "    .dataframe thead th {\n",
       "        text-align: right;\n",
       "    }\n",
       "</style>\n",
       "<table border=\"1\" class=\"dataframe\">\n",
       "  <thead>\n",
       "    <tr style=\"text-align: right;\">\n",
       "      <th></th>\n",
       "      <th>Course</th>\n",
       "      <th>Desc</th>\n",
       "      <th>Round1</th>\n",
       "      <th>Round2</th>\n",
       "    </tr>\n",
       "  </thead>\n",
       "  <tbody>\n",
       "    <tr>\n",
       "      <th>0</th>\n",
       "      <td>AL801</td>\n",
       "      <td>Software Design for Virtual Reality and Gaming...</td>\n",
       "      <td>300</td>\n",
       "      <td></td>\n",
       "    </tr>\n",
       "    <tr>\n",
       "      <th>1</th>\n",
       "      <td>AL802</td>\n",
       "      <td>Software Design in Artificial Intelligence for...</td>\n",
       "      <td>313</td>\n",
       "      <td></td>\n",
       "    </tr>\n",
       "    <tr>\n",
       "      <th>2</th>\n",
       "      <td>AL803</td>\n",
       "      <td>Software Design for Mobile Apps and Connected ...</td>\n",
       "      <td>350</td>\n",
       "      <td></td>\n",
       "    </tr>\n",
       "    <tr>\n",
       "      <th>3</th>\n",
       "      <td>AL805</td>\n",
       "      <td>Computer Engineering for Network Infrastructur...</td>\n",
       "      <td>321</td>\n",
       "      <td></td>\n",
       "    </tr>\n",
       "    <tr>\n",
       "      <th>4</th>\n",
       "      <td>AL810</td>\n",
       "      <td>Quantity Surveying                            ...</td>\n",
       "      <td>328</td>\n",
       "      <td></td>\n",
       "    </tr>\n",
       "  </tbody>\n",
       "</table>\n",
       "</div>"
      ],
      "text/plain": [
       "  Course                                               Desc Round1 Round2\n",
       "0  AL801  Software Design for Virtual Reality and Gaming...    300       \n",
       "1  AL802  Software Design in Artificial Intelligence for...    313       \n",
       "2  AL803  Software Design for Mobile Apps and Connected ...    350       \n",
       "3  AL805  Computer Engineering for Network Infrastructur...    321       \n",
       "4  AL810  Quantity Surveying                            ...    328       "
      ]
     },
     "execution_count": 17,
     "metadata": {},
     "output_type": "execute_result"
    }
   ],
   "source": [
    "#Have a look at the top of the dataframe\n",
    "df2021.head()"
   ]
  },
  {
   "cell_type": "code",
   "execution_count": 18,
   "id": "1e965991-a61a-4c8a-a781-6200d9ef3ddf",
   "metadata": {},
   "outputs": [],
   "source": [
    "#renaming columns for consistency with other years\n",
    "df2021.columns=['Code','Course','Round1','Round2']"
   ]
  },
  {
   "cell_type": "code",
   "execution_count": 19,
   "id": "faed3dc7-a73c-4028-887f-9f5ded2960bb",
   "metadata": {},
   "outputs": [
    {
     "data": {
      "text/html": [
       "<div>\n",
       "<style scoped>\n",
       "    .dataframe tbody tr th:only-of-type {\n",
       "        vertical-align: middle;\n",
       "    }\n",
       "\n",
       "    .dataframe tbody tr th {\n",
       "        vertical-align: top;\n",
       "    }\n",
       "\n",
       "    .dataframe thead th {\n",
       "        text-align: right;\n",
       "    }\n",
       "</style>\n",
       "<table border=\"1\" class=\"dataframe\">\n",
       "  <thead>\n",
       "    <tr style=\"text-align: right;\">\n",
       "      <th></th>\n",
       "      <th>Code</th>\n",
       "      <th>Course</th>\n",
       "      <th>Round1</th>\n",
       "      <th>Round2</th>\n",
       "    </tr>\n",
       "  </thead>\n",
       "  <tbody>\n",
       "    <tr>\n",
       "      <th>0</th>\n",
       "      <td>AL801</td>\n",
       "      <td>Software Design for Virtual Reality and Gaming...</td>\n",
       "      <td>300</td>\n",
       "      <td></td>\n",
       "    </tr>\n",
       "    <tr>\n",
       "      <th>1</th>\n",
       "      <td>AL802</td>\n",
       "      <td>Software Design in Artificial Intelligence for...</td>\n",
       "      <td>313</td>\n",
       "      <td></td>\n",
       "    </tr>\n",
       "    <tr>\n",
       "      <th>2</th>\n",
       "      <td>AL803</td>\n",
       "      <td>Software Design for Mobile Apps and Connected ...</td>\n",
       "      <td>350</td>\n",
       "      <td></td>\n",
       "    </tr>\n",
       "    <tr>\n",
       "      <th>3</th>\n",
       "      <td>AL805</td>\n",
       "      <td>Computer Engineering for Network Infrastructur...</td>\n",
       "      <td>321</td>\n",
       "      <td></td>\n",
       "    </tr>\n",
       "    <tr>\n",
       "      <th>4</th>\n",
       "      <td>AL810</td>\n",
       "      <td>Quantity Surveying                            ...</td>\n",
       "      <td>328</td>\n",
       "      <td></td>\n",
       "    </tr>\n",
       "  </tbody>\n",
       "</table>\n",
       "</div>"
      ],
      "text/plain": [
       "    Code                                             Course Round1 Round2\n",
       "0  AL801  Software Design for Virtual Reality and Gaming...    300       \n",
       "1  AL802  Software Design in Artificial Intelligence for...    313       \n",
       "2  AL803  Software Design for Mobile Apps and Connected ...    350       \n",
       "3  AL805  Computer Engineering for Network Infrastructur...    321       \n",
       "4  AL810  Quantity Surveying                            ...    328       "
      ]
     },
     "execution_count": 19,
     "metadata": {},
     "output_type": "execute_result"
    }
   ],
   "source": [
    "df2021.head()"
   ]
  },
  {
   "cell_type": "code",
   "execution_count": 20,
   "id": "956c5d49-d12d-49c8-8ddb-02ffe974052d",
   "metadata": {},
   "outputs": [
    {
     "data": {
      "text/plain": [
       "Code      949\n",
       "Course    949\n",
       "Round1    920\n",
       "Round2    859\n",
       "dtype: int64"
      ]
     },
     "execution_count": 20,
     "metadata": {},
     "output_type": "execute_result"
    }
   ],
   "source": [
    "df2021.count()"
   ]
  },
  {
   "cell_type": "markdown",
   "id": "5420d8d4-4b3a-4753-bb53-21d7ec23da8d",
   "metadata": {},
   "source": [
    "***  "
   ]
  },
  {
   "cell_type": "code",
   "execution_count": 21,
   "id": "9e8ec0d7-70f4-4e40-adf6-e1e8f82f6dff",
   "metadata": {},
   "outputs": [
    {
     "data": {
      "text/html": [
       "<div>\n",
       "<style scoped>\n",
       "    .dataframe tbody tr th:only-of-type {\n",
       "        vertical-align: middle;\n",
       "    }\n",
       "\n",
       "    .dataframe tbody tr th {\n",
       "        vertical-align: top;\n",
       "    }\n",
       "\n",
       "    .dataframe thead th {\n",
       "        text-align: right;\n",
       "    }\n",
       "</style>\n",
       "<table border=\"1\" class=\"dataframe\">\n",
       "  <thead>\n",
       "    <tr style=\"text-align: right;\">\n",
       "      <th></th>\n",
       "      <th>Code</th>\n",
       "      <th>Course</th>\n",
       "    </tr>\n",
       "  </thead>\n",
       "  <tbody>\n",
       "    <tr>\n",
       "      <th>1</th>\n",
       "      <td>AL801</td>\n",
       "      <td>Software Design with Virtual Reality and Gaming</td>\n",
       "    </tr>\n",
       "    <tr>\n",
       "      <th>2</th>\n",
       "      <td>AL802</td>\n",
       "      <td>Software Design with Cloud Computing</td>\n",
       "    </tr>\n",
       "    <tr>\n",
       "      <th>3</th>\n",
       "      <td>AL803</td>\n",
       "      <td>Software Design with Mobile Apps and Connected...</td>\n",
       "    </tr>\n",
       "    <tr>\n",
       "      <th>4</th>\n",
       "      <td>AL805</td>\n",
       "      <td>Network Management and Cloud Infrastructure</td>\n",
       "    </tr>\n",
       "    <tr>\n",
       "      <th>5</th>\n",
       "      <td>AL810</td>\n",
       "      <td>Quantity Surveying</td>\n",
       "    </tr>\n",
       "    <tr>\n",
       "      <th>...</th>\n",
       "      <td>...</td>\n",
       "      <td>...</td>\n",
       "    </tr>\n",
       "    <tr>\n",
       "      <th>926</th>\n",
       "      <td>WD200</td>\n",
       "      <td>Arts (options)</td>\n",
       "    </tr>\n",
       "    <tr>\n",
       "      <th>927</th>\n",
       "      <td>WD210</td>\n",
       "      <td>Software Systems Development</td>\n",
       "    </tr>\n",
       "    <tr>\n",
       "      <th>928</th>\n",
       "      <td>WD211</td>\n",
       "      <td>Creative Computing</td>\n",
       "    </tr>\n",
       "    <tr>\n",
       "      <th>929</th>\n",
       "      <td>WD212</td>\n",
       "      <td>Recreation and Sport Management</td>\n",
       "    </tr>\n",
       "    <tr>\n",
       "      <th>930</th>\n",
       "      <td>WD230</td>\n",
       "      <td>Mechanical and Manufacturing Engineering</td>\n",
       "    </tr>\n",
       "  </tbody>\n",
       "</table>\n",
       "<p>930 rows × 2 columns</p>\n",
       "</div>"
      ],
      "text/plain": [
       "      Code                                             Course\n",
       "1    AL801    Software Design with Virtual Reality and Gaming\n",
       "2    AL802               Software Design with Cloud Computing\n",
       "3    AL803  Software Design with Mobile Apps and Connected...\n",
       "4    AL805        Network Management and Cloud Infrastructure\n",
       "5    AL810                                 Quantity Surveying\n",
       "..     ...                                                ...\n",
       "926  WD200                                     Arts (options)\n",
       "927  WD210                       Software Systems Development\n",
       "928  WD211                                 Creative Computing\n",
       "929  WD212                    Recreation and Sport Management\n",
       "930  WD230           Mechanical and Manufacturing Engineering\n",
       "\n",
       "[930 rows x 2 columns]"
      ]
     },
     "execution_count": 21,
     "metadata": {},
     "output_type": "execute_result"
    }
   ],
   "source": [
    "#\n",
    "df2019.loc[:,['Code','Course']]"
   ]
  },
  {
   "cell_type": "code",
   "execution_count": 22,
   "id": "bf844e92-3ae0-4b7d-9096-2fe08dbd88ad",
   "metadata": {},
   "outputs": [],
   "source": [
    "#stack all the years into a new frame using only the code and the course\n",
    "dfAllYears = pd.concat([df2019.loc[:,['Code','Course']],df2020.loc[:,['Code','Course']],df2021.loc[:,['Code','Course']]],ignore_index=True)"
   ]
  },
  {
   "cell_type": "code",
   "execution_count": 23,
   "id": "35eae353-091c-4793-b5c0-1fa1e97a2db2",
   "metadata": {},
   "outputs": [
    {
     "name": "stdout",
     "output_type": "stream",
     "text": [
      "2906\n"
     ]
    },
    {
     "data": {
      "text/plain": [
       "Code      2906\n",
       "Course    2906\n",
       "dtype: int64"
      ]
     },
     "execution_count": 23,
     "metadata": {},
     "output_type": "execute_result"
    }
   ],
   "source": [
    "#This should equal the sum of the 3 dfs \n",
    "print((930 + 1027 + 949 ))\n",
    "dfAllYears.count()"
   ]
  },
  {
   "cell_type": "code",
   "execution_count": 24,
   "id": "a7fc0790-99e0-4bcb-8487-02cc8575124d",
   "metadata": {},
   "outputs": [
    {
     "data": {
      "text/html": [
       "<div>\n",
       "<style scoped>\n",
       "    .dataframe tbody tr th:only-of-type {\n",
       "        vertical-align: middle;\n",
       "    }\n",
       "\n",
       "    .dataframe tbody tr th {\n",
       "        vertical-align: top;\n",
       "    }\n",
       "\n",
       "    .dataframe thead th {\n",
       "        text-align: right;\n",
       "    }\n",
       "</style>\n",
       "<table border=\"1\" class=\"dataframe\">\n",
       "  <thead>\n",
       "    <tr style=\"text-align: right;\">\n",
       "      <th></th>\n",
       "      <th>Code</th>\n",
       "      <th>Course</th>\n",
       "    </tr>\n",
       "  </thead>\n",
       "  <tbody>\n",
       "    <tr>\n",
       "      <th>0</th>\n",
       "      <td>AL801</td>\n",
       "      <td>Software Design with Virtual Reality and Gaming</td>\n",
       "    </tr>\n",
       "    <tr>\n",
       "      <th>1</th>\n",
       "      <td>AL802</td>\n",
       "      <td>Software Design with Cloud Computing</td>\n",
       "    </tr>\n",
       "    <tr>\n",
       "      <th>2</th>\n",
       "      <td>AL803</td>\n",
       "      <td>Software Design with Mobile Apps and Connected...</td>\n",
       "    </tr>\n",
       "    <tr>\n",
       "      <th>3</th>\n",
       "      <td>AL805</td>\n",
       "      <td>Network Management and Cloud Infrastructure</td>\n",
       "    </tr>\n",
       "    <tr>\n",
       "      <th>4</th>\n",
       "      <td>AL810</td>\n",
       "      <td>Quantity Surveying</td>\n",
       "    </tr>\n",
       "  </tbody>\n",
       "</table>\n",
       "</div>"
      ],
      "text/plain": [
       "    Code                                             Course\n",
       "0  AL801    Software Design with Virtual Reality and Gaming\n",
       "1  AL802               Software Design with Cloud Computing\n",
       "2  AL803  Software Design with Mobile Apps and Connected...\n",
       "3  AL805        Network Management and Cloud Infrastructure\n",
       "4  AL810                                 Quantity Surveying"
      ]
     },
     "execution_count": 24,
     "metadata": {},
     "output_type": "execute_result"
    }
   ],
   "source": [
    "#have a look at the new datafram\n",
    "dfAllYears.head()"
   ]
  },
  {
   "cell_type": "code",
   "execution_count": 25,
   "id": "d8fcf3af-52db-4f08-9e1a-92dfcba5bb67",
   "metadata": {},
   "outputs": [
    {
     "data": {
      "text/html": [
       "<div>\n",
       "<style scoped>\n",
       "    .dataframe tbody tr th:only-of-type {\n",
       "        vertical-align: middle;\n",
       "    }\n",
       "\n",
       "    .dataframe tbody tr th {\n",
       "        vertical-align: top;\n",
       "    }\n",
       "\n",
       "    .dataframe thead th {\n",
       "        text-align: right;\n",
       "    }\n",
       "</style>\n",
       "<table border=\"1\" class=\"dataframe\">\n",
       "  <thead>\n",
       "    <tr style=\"text-align: right;\">\n",
       "      <th></th>\n",
       "      <th>Code</th>\n",
       "      <th>Course</th>\n",
       "    </tr>\n",
       "  </thead>\n",
       "  <tbody>\n",
       "    <tr>\n",
       "      <th>168</th>\n",
       "      <td>AC120</td>\n",
       "      <td>International Business</td>\n",
       "    </tr>\n",
       "    <tr>\n",
       "      <th>2132</th>\n",
       "      <td>AC120</td>\n",
       "      <td>International Business                        ...</td>\n",
       "    </tr>\n",
       "    <tr>\n",
       "      <th>930</th>\n",
       "      <td>AC120</td>\n",
       "      <td>International Business</td>\n",
       "    </tr>\n",
       "    <tr>\n",
       "      <th>2133</th>\n",
       "      <td>AC137</td>\n",
       "      <td>Liberal Arts                                  ...</td>\n",
       "    </tr>\n",
       "    <tr>\n",
       "      <th>169</th>\n",
       "      <td>AC137</td>\n",
       "      <td>Liberal Arts</td>\n",
       "    </tr>\n",
       "    <tr>\n",
       "      <th>...</th>\n",
       "      <td>...</td>\n",
       "      <td>...</td>\n",
       "    </tr>\n",
       "    <tr>\n",
       "      <th>929</th>\n",
       "      <td>WD230</td>\n",
       "      <td>Mechanical and Manufacturing Engineering</td>\n",
       "    </tr>\n",
       "    <tr>\n",
       "      <th>1956</th>\n",
       "      <td>WD230</td>\n",
       "      <td>Mechanical and Manufacturing Engineering</td>\n",
       "    </tr>\n",
       "    <tr>\n",
       "      <th>2903</th>\n",
       "      <td>WD230</td>\n",
       "      <td>Mechanical and Manufacturing Engineering      ...</td>\n",
       "    </tr>\n",
       "    <tr>\n",
       "      <th>2904</th>\n",
       "      <td>WD231</td>\n",
       "      <td>Early Childhood Care and Education            ...</td>\n",
       "    </tr>\n",
       "    <tr>\n",
       "      <th>2905</th>\n",
       "      <td>WD232</td>\n",
       "      <td>Business Information Systems                  ...</td>\n",
       "    </tr>\n",
       "  </tbody>\n",
       "</table>\n",
       "<p>2906 rows × 2 columns</p>\n",
       "</div>"
      ],
      "text/plain": [
       "       Code                                             Course\n",
       "168   AC120                             International Business\n",
       "2132  AC120  International Business                        ...\n",
       "930   AC120                             International Business\n",
       "2133  AC137  Liberal Arts                                  ...\n",
       "169   AC137                                       Liberal Arts\n",
       "...     ...                                                ...\n",
       "929   WD230           Mechanical and Manufacturing Engineering\n",
       "1956  WD230           Mechanical and Manufacturing Engineering\n",
       "2903  WD230  Mechanical and Manufacturing Engineering      ...\n",
       "2904  WD231  Early Childhood Care and Education            ...\n",
       "2905  WD232  Business Information Systems                  ...\n",
       "\n",
       "[2906 rows x 2 columns]"
      ]
     },
     "execution_count": 25,
     "metadata": {},
     "output_type": "execute_result"
    }
   ],
   "source": [
    "#sort the data fram by code to visualize duplicates\n",
    "dfAllYears.sort_values(by=['Code'])"
   ]
  },
  {
   "cell_type": "code",
   "execution_count": 26,
   "id": "f33f68d3-b761-406d-ac66-cef0a9070121",
   "metadata": {},
   "outputs": [],
   "source": [
    "#need to tidy up above as courses slightly out - one year has ... at end  "
   ]
  },
  {
   "cell_type": "code",
   "execution_count": 27,
   "id": "511bf861-d34f-4486-b3b1-2ee14cdc4e6a",
   "metadata": {},
   "outputs": [
    {
     "data": {
      "text/plain": [
       "0       False\n",
       "1       False\n",
       "2       False\n",
       "3       False\n",
       "4       False\n",
       "        ...  \n",
       "2901     True\n",
       "2902     True\n",
       "2903     True\n",
       "2904    False\n",
       "2905    False\n",
       "Length: 2906, dtype: bool"
      ]
     },
     "execution_count": 27,
     "metadata": {},
     "output_type": "execute_result"
    }
   ],
   "source": [
    "#have a look for duplicates\n",
    "dfAllYears.duplicated(subset=['Code'])"
   ]
  },
  {
   "cell_type": "code",
   "execution_count": 28,
   "id": "0ce448dd-802a-459c-b6cd-0ceffcc7325c",
   "metadata": {},
   "outputs": [
    {
     "data": {
      "text/plain": [
       "1692"
      ]
     },
     "execution_count": 28,
     "metadata": {},
     "output_type": "execute_result"
    }
   ],
   "source": [
    "#false is 0 and true is 1 therefore can sum the trues\n",
    "dfAllYears.duplicated(subset=['Code']).sum()"
   ]
  },
  {
   "cell_type": "code",
   "execution_count": 29,
   "id": "14c97b5a-20af-4330-911e-59a2dfc4f8a8",
   "metadata": {},
   "outputs": [],
   "source": [
    "#drop the duplicates\n",
    "dfAllYears.drop_duplicates(subset=['Code'],ignore_index=True,inplace=True)"
   ]
  },
  {
   "cell_type": "code",
   "execution_count": 30,
   "id": "c601e784-1cc5-45ab-a987-b09a26a7d166",
   "metadata": {},
   "outputs": [
    {
     "data": {
      "text/html": [
       "<div>\n",
       "<style scoped>\n",
       "    .dataframe tbody tr th:only-of-type {\n",
       "        vertical-align: middle;\n",
       "    }\n",
       "\n",
       "    .dataframe tbody tr th {\n",
       "        vertical-align: top;\n",
       "    }\n",
       "\n",
       "    .dataframe thead th {\n",
       "        text-align: right;\n",
       "    }\n",
       "</style>\n",
       "<table border=\"1\" class=\"dataframe\">\n",
       "  <thead>\n",
       "    <tr style=\"text-align: right;\">\n",
       "      <th></th>\n",
       "      <th>Code</th>\n",
       "      <th>Course</th>\n",
       "    </tr>\n",
       "  </thead>\n",
       "  <tbody>\n",
       "    <tr>\n",
       "      <th>0</th>\n",
       "      <td>AL801</td>\n",
       "      <td>Software Design with Virtual Reality and Gaming</td>\n",
       "    </tr>\n",
       "    <tr>\n",
       "      <th>1</th>\n",
       "      <td>AL802</td>\n",
       "      <td>Software Design with Cloud Computing</td>\n",
       "    </tr>\n",
       "    <tr>\n",
       "      <th>2</th>\n",
       "      <td>AL803</td>\n",
       "      <td>Software Design with Mobile Apps and Connected...</td>\n",
       "    </tr>\n",
       "    <tr>\n",
       "      <th>3</th>\n",
       "      <td>AL805</td>\n",
       "      <td>Network Management and Cloud Infrastructure</td>\n",
       "    </tr>\n",
       "    <tr>\n",
       "      <th>4</th>\n",
       "      <td>AL810</td>\n",
       "      <td>Quantity Surveying</td>\n",
       "    </tr>\n",
       "  </tbody>\n",
       "</table>\n",
       "</div>"
      ],
      "text/plain": [
       "    Code                                             Course\n",
       "0  AL801    Software Design with Virtual Reality and Gaming\n",
       "1  AL802               Software Design with Cloud Computing\n",
       "2  AL803  Software Design with Mobile Apps and Connected...\n",
       "3  AL805        Network Management and Cloud Infrastructure\n",
       "4  AL810                                 Quantity Surveying"
      ]
     },
     "execution_count": 30,
     "metadata": {},
     "output_type": "execute_result"
    }
   ],
   "source": [
    "dfAllYears.head()"
   ]
  },
  {
   "cell_type": "code",
   "execution_count": 31,
   "id": "b7acf7a3-4780-4c98-9387-cad2dcc6adfd",
   "metadata": {},
   "outputs": [
    {
     "data": {
      "text/plain": [
       "Code      1214\n",
       "Course    1214\n",
       "dtype: int64"
      ]
     },
     "execution_count": 31,
     "metadata": {},
     "output_type": "execute_result"
    }
   ],
   "source": [
    "dfAllYears.count()"
   ]
  },
  {
   "cell_type": "code",
   "execution_count": 32,
   "id": "9222fe0b-4c37-4963-b5d6-15492c10c9bc",
   "metadata": {},
   "outputs": [
    {
     "data": {
      "text/html": [
       "<div>\n",
       "<style scoped>\n",
       "    .dataframe tbody tr th:only-of-type {\n",
       "        vertical-align: middle;\n",
       "    }\n",
       "\n",
       "    .dataframe tbody tr th {\n",
       "        vertical-align: top;\n",
       "    }\n",
       "\n",
       "    .dataframe thead th {\n",
       "        text-align: right;\n",
       "    }\n",
       "</style>\n",
       "<table border=\"1\" class=\"dataframe\">\n",
       "  <thead>\n",
       "    <tr style=\"text-align: right;\">\n",
       "      <th></th>\n",
       "      <th>Code</th>\n",
       "      <th>Course</th>\n",
       "    </tr>\n",
       "  </thead>\n",
       "  <tbody>\n",
       "    <tr>\n",
       "      <th>0</th>\n",
       "      <td>AL801</td>\n",
       "      <td>Software Design with Virtual Reality and Gaming</td>\n",
       "    </tr>\n",
       "    <tr>\n",
       "      <th>1</th>\n",
       "      <td>AL802</td>\n",
       "      <td>Software Design with Cloud Computing</td>\n",
       "    </tr>\n",
       "    <tr>\n",
       "      <th>2</th>\n",
       "      <td>AL803</td>\n",
       "      <td>Software Design with Mobile Apps and Connected...</td>\n",
       "    </tr>\n",
       "    <tr>\n",
       "      <th>3</th>\n",
       "      <td>AL805</td>\n",
       "      <td>Network Management and Cloud Infrastructure</td>\n",
       "    </tr>\n",
       "    <tr>\n",
       "      <th>4</th>\n",
       "      <td>AL810</td>\n",
       "      <td>Quantity Surveying</td>\n",
       "    </tr>\n",
       "    <tr>\n",
       "      <th>...</th>\n",
       "      <td>...</td>\n",
       "      <td>...</td>\n",
       "    </tr>\n",
       "    <tr>\n",
       "      <th>1209</th>\n",
       "      <td>SG349</td>\n",
       "      <td>Electronics and Self Driving Technologies     ...</td>\n",
       "    </tr>\n",
       "    <tr>\n",
       "      <th>1210</th>\n",
       "      <td>SG350</td>\n",
       "      <td>Robotics and Automation                       ...</td>\n",
       "    </tr>\n",
       "    <tr>\n",
       "      <th>1211</th>\n",
       "      <td>TL874</td>\n",
       "      <td>Inclusive Sport and Physical Activity         ...</td>\n",
       "    </tr>\n",
       "    <tr>\n",
       "      <th>1212</th>\n",
       "      <td>WD231</td>\n",
       "      <td>Early Childhood Care and Education            ...</td>\n",
       "    </tr>\n",
       "    <tr>\n",
       "      <th>1213</th>\n",
       "      <td>WD232</td>\n",
       "      <td>Business Information Systems                  ...</td>\n",
       "    </tr>\n",
       "  </tbody>\n",
       "</table>\n",
       "<p>1214 rows × 2 columns</p>\n",
       "</div>"
      ],
      "text/plain": [
       "       Code                                             Course\n",
       "0     AL801    Software Design with Virtual Reality and Gaming\n",
       "1     AL802               Software Design with Cloud Computing\n",
       "2     AL803  Software Design with Mobile Apps and Connected...\n",
       "3     AL805        Network Management and Cloud Infrastructure\n",
       "4     AL810                                 Quantity Surveying\n",
       "...     ...                                                ...\n",
       "1209  SG349  Electronics and Self Driving Technologies     ...\n",
       "1210  SG350  Robotics and Automation                       ...\n",
       "1211  TL874  Inclusive Sport and Physical Activity         ...\n",
       "1212  WD231  Early Childhood Care and Education            ...\n",
       "1213  WD232  Business Information Systems                  ...\n",
       "\n",
       "[1214 rows x 2 columns]"
      ]
     },
     "execution_count": 32,
     "metadata": {},
     "output_type": "execute_result"
    }
   ],
   "source": [
    "dfAllYears"
   ]
  },
  {
   "cell_type": "markdown",
   "id": "7ca887a8-ad7c-412b-98a7-5b23ef3b4d3c",
   "metadata": {},
   "source": [
    "***  \n",
    "## to do\n",
    "join points data from other years to his dataframe\n",
    "***"
   ]
  },
  {
   "cell_type": "code",
   "execution_count": null,
   "id": "b451cd3d-ad4f-4011-a243-c76fc0f04d31",
   "metadata": {},
   "outputs": [],
   "source": []
  }
 ],
 "metadata": {
  "kernelspec": {
   "display_name": "Python 3",
   "language": "python",
   "name": "python3"
  },
  "language_info": {
   "codemirror_mode": {
    "name": "ipython",
    "version": 3
   },
   "file_extension": ".py",
   "mimetype": "text/x-python",
   "name": "python",
   "nbconvert_exporter": "python",
   "pygments_lexer": "ipython3",
   "version": "3.8.8"
  }
 },
 "nbformat": 4,
 "nbformat_minor": 5
}
