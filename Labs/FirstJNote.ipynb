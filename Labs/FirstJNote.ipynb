{
 "cells": [
  {
   "cell_type": "markdown",
   "id": "97ca0125-e964-4f09-a9d5-affd3ddde254",
   "metadata": {},
   "source": [
    "# First NoteBook\n",
    "***\n",
    "This is an scrap notebook for trying things out in \n",
    "<br>  \n",
    "remember to cut and paste from this once poc and test finished into project notebooks "
   ]
  },
  {
   "cell_type": "markdown",
   "id": "2f93b52c-14e0-489a-ad0e-38438019bf52",
   "metadata": {},
   "source": [
    "below from https://matplotlib.org/matplotblog/posts/animated-fractals/"
   ]
  },
  {
   "cell_type": "code",
   "execution_count": 1,
   "id": "9ecaf8eb-0019-4a45-b22f-0730416f924a",
   "metadata": {},
   "outputs": [],
   "source": [
    "def mandelbrot(x, y, threshold):\n",
    "    \"\"\"Calculates whether the number c = x + i*y belongs to the \n",
    "    Mandelbrot set. In order to belong, the sequence z[i + 1] = z[i]**2 + c\n",
    "    must not diverge after 'threshold' number of steps. The sequence diverges\n",
    "    if the absolute value of z[i+1] is greater than 4.\n",
    "    \n",
    "    :param float x: the x component of the initial complex number\n",
    "    :param float y: the y component of the initial complex number\n",
    "    :param int threshold: the number of iterations to considered it converged\n",
    "    \"\"\"\n",
    "    # initial conditions\n",
    "    c = complex(x, y)\n",
    "    z = complex(0, 0)\n",
    "    \n",
    "    for i in range(threshold):\n",
    "        z = z**2 + c\n",
    "        if abs(z) > 4.:  # it diverged\n",
    "            return i\n",
    "        \n",
    "    return threshold - 1  # it didn't diverge"
   ]
  },
  {
   "cell_type": "code",
   "execution_count": 2,
   "id": "afc0b66c-bf32-4d24-8af2-34ab290426ca",
   "metadata": {},
   "outputs": [
    {
     "name": "stdout",
     "output_type": "stream",
     "text": [
      "Requirement already satisfied: pillow in c:\\users\\mparry\\anaconda3\\lib\\site-packages (8.2.0)\n",
      "Note: you may need to restart the kernel to use updated packages.\n"
     ]
    },
    {
     "ename": "ModuleNotFoundError",
     "evalue": "No module named 'pillow'",
     "output_type": "error",
     "traceback": [
      "\u001b[1;31m---------------------------------------------------------------------------\u001b[0m",
      "\u001b[1;31mModuleNotFoundError\u001b[0m                       Traceback (most recent call last)",
      "\u001b[1;32m<ipython-input-2-056929750237>\u001b[0m in \u001b[0;36m<module>\u001b[1;34m\u001b[0m\n\u001b[0;32m      3\u001b[0m \u001b[1;32mimport\u001b[0m \u001b[0mmatplotlib\u001b[0m\u001b[1;33m.\u001b[0m\u001b[0manimation\u001b[0m \u001b[1;32mas\u001b[0m \u001b[0manimation\u001b[0m\u001b[1;33m\u001b[0m\u001b[1;33m\u001b[0m\u001b[0m\n\u001b[0;32m      4\u001b[0m \u001b[0mget_ipython\u001b[0m\u001b[1;33m(\u001b[0m\u001b[1;33m)\u001b[0m\u001b[1;33m.\u001b[0m\u001b[0mrun_line_magic\u001b[0m\u001b[1;33m(\u001b[0m\u001b[1;34m'pip'\u001b[0m\u001b[1;33m,\u001b[0m \u001b[1;34m'install pillow'\u001b[0m\u001b[1;33m)\u001b[0m\u001b[1;33m\u001b[0m\u001b[1;33m\u001b[0m\u001b[0m\n\u001b[1;32m----> 5\u001b[1;33m \u001b[1;32mimport\u001b[0m \u001b[0mpillow\u001b[0m\u001b[1;33m\u001b[0m\u001b[1;33m\u001b[0m\u001b[0m\n\u001b[0m\u001b[0;32m      6\u001b[0m \u001b[1;33m\u001b[0m\u001b[0m\n\u001b[0;32m      7\u001b[0m \u001b[0mx_start\u001b[0m\u001b[1;33m,\u001b[0m \u001b[0my_start\u001b[0m \u001b[1;33m=\u001b[0m \u001b[1;33m-\u001b[0m\u001b[1;36m2\u001b[0m\u001b[1;33m,\u001b[0m \u001b[1;33m-\u001b[0m\u001b[1;36m1.5\u001b[0m  \u001b[1;31m# an interesting region starts here\u001b[0m\u001b[1;33m\u001b[0m\u001b[1;33m\u001b[0m\u001b[0m\n",
      "\u001b[1;31mModuleNotFoundError\u001b[0m: No module named 'pillow'"
     ]
    }
   ],
   "source": [
    "import numpy as np\n",
    "import matplotlib.pyplot as plt\n",
    "import matplotlib.animation as animation\n",
    "%pip install pillow\n",
    "import pillow\n",
    "\n",
    "x_start, y_start = -2, -1.5  # an interesting region starts here\n",
    "width, height = 3, 3  # for 3 units up and right\n",
    "density_per_unit = 250  # how many pixles per unit\n",
    "\n",
    "# real and imaginary axis\n",
    "re = np.linspace(x_start, x_start + width, width * density_per_unit )\n",
    "im = np.linspace(y_start, y_start + height, height * density_per_unit)\n",
    "\n",
    "fig = plt.figure(figsize=(10, 10))  # instantiate a figure to draw\n",
    "ax = plt.axes()  # create an axes object\n",
    "\n",
    "def animate(i):\n",
    "    ax.clear()  # clear axes object\n",
    "    ax.set_xticks([])  # clear x-axis ticks\n",
    "    ax.set_yticks([])  # clear y-axis ticks\n",
    "    \n",
    "    X = np.empty((len(re), len(im)))  # re-initialize the array-like image\n",
    "    threshold = round(1.15**(i + 1))  # calculate the current threshold\n",
    "    \n",
    "    # iterations for the current threshold\n",
    "    for i in range(len(re)):\n",
    "        for j in range(len(im)):\n",
    "            X[i, j] = mandelbrot(re[i], im[j], threshold)\n",
    "    \n",
    "    # associate colors to the iterations with an iterpolation\n",
    "    img = ax.imshow(X.T, interpolation=\"bicubic\", cmap='magma')\n",
    "    return [img]\n",
    " \n",
    "anim = animation.FuncAnimation(fig, animate, frames=45, interval=120, blit=True)\n",
    "anim.save('mandelbrot.gif',writer='pillowWriter')"
   ]
  },
  {
   "cell_type": "code",
   "execution_count": null,
   "id": "496e2d73-e022-418c-b717-bb22ffbfd5cb",
   "metadata": {},
   "outputs": [],
   "source": [
    "#comment python code\n",
    "i = 2\n",
    "j = 3\n",
    "k = i * j\n",
    "print (\"answer\",k)"
   ]
  },
  {
   "cell_type": "markdown",
   "id": "247245f9-4fd5-414b-b497-84d0e041c768",
   "metadata": {},
   "source": [
    "## Trying out LaTex\n",
    "***\n",
    "Mathematical formula rendering\n",
    "<br>  \n",
    "link to cheat sheet https://math.meta.stackexchange.com/questions/5020/mathjax-basic-tutorial-and-quick-reference\n",
    "<br> \n",
    "Enclose the formula in single dollar sign \\\\$.....\\\\$ for inline and double dollar signs \\\\$\\\\$.....\\\\$\\\\$ for below the line\n",
    "\n",
    "### Inline\n",
    "this is an inline example $\\sqrt 2 = 1.414213562373095$\n",
    "\n",
    "### Below Line\n",
    "this is some text and the formula should be below this line $$\\sqrt 2$$\n",
    "\n",
    "### Sum\n",
    "$\\sum_1^n = {(n)(n-1)\\over2}$"
   ]
  },
  {
   "cell_type": "markdown",
   "id": "7ad6363d-dcfa-45eb-9522-5935def4c212",
   "metadata": {},
   "source": [
    "## markdown cell\n",
    "***  \n",
    "this is how to use a markdown cell\n",
    "\n"
   ]
  },
  {
   "cell_type": "markdown",
   "id": "342b7c10-d9ab-4a12-90c1-b250852e98a6",
   "metadata": {},
   "source": [
    "## trying out referencing\n",
    "***\n",
    " \n",
    "Testing out reference links [^1]  \n",
    "\n",
    "[^1]: This is the reference\n",
    "<br> \n",
    "The above works in the readme file but not here in jupyter - find out why"
   ]
  },
  {
   "cell_type": "markdown",
   "id": "184ca37b-6675-47b8-8290-9b31bf056592",
   "metadata": {},
   "source": [
    "### Trying out pypdf2\n",
    "***\n",
    "Trying to read pdf file from cao but page extraction is restricted "
   ]
  },
  {
   "cell_type": "code",
   "execution_count": null,
   "id": "ab151785-c8b5-4945-8739-aa53e9b3ab99",
   "metadata": {},
   "outputs": [],
   "source": [
    "import PyPDF2\n",
    "pdfFileObj = open(\"lc19pts.pdf\", \"rb\")\n",
    "pdfReader = PyPDF2.PdfFileReader(pdfFileObj)\n",
    "\n"
   ]
  },
  {
   "cell_type": "code",
   "execution_count": null,
   "id": "c03c22db-59a8-47d1-b760-2bfa6bc6bb69",
   "metadata": {},
   "outputs": [],
   "source": [
    "pdfReader.numPages\n"
   ]
  },
  {
   "cell_type": "code",
   "execution_count": null,
   "id": "450018e3-53b2-4980-bc70-3d02531f59d3",
   "metadata": {},
   "outputs": [],
   "source": [
    "pageObj = pdfReader.getPage(0)\n",
    "pdftext = pageObj.extractText()\n",
    "pdftext"
   ]
  },
  {
   "cell_type": "code",
   "execution_count": null,
   "id": "8046a491-e1e4-4fc6-92b4-2e35d598f49d",
   "metadata": {},
   "outputs": [],
   "source": [
    "#ok not happy with this utility move on "
   ]
  },
  {
   "cell_type": "markdown",
   "id": "190a7e29-cc47-410a-876a-9bbeb0cae3cb",
   "metadata": {},
   "source": [
    "### Trying out tabula read pdf\n",
    "***"
   ]
  },
  {
   "cell_type": "markdown",
   "id": "f9c68a65-02e9-4388-b037-b4b4b85e65f1",
   "metadata": {},
   "source": [
    "Link to the documentation\n",
    "https://tabula-py.readthedocs.io/en/latest/"
   ]
  },
  {
   "cell_type": "code",
   "execution_count": null,
   "id": "34444def-66fb-4b97-a74a-c5491dd9180e",
   "metadata": {},
   "outputs": [],
   "source": [
    "#set up the url where the pdf is held\n",
    "url = \"http://www2.cao.ie/points/lvl8_19.pdf\""
   ]
  },
  {
   "cell_type": "code",
   "execution_count": null,
   "id": "f6464c40-7aa0-49dd-8bb7-aa3a027e2ca7",
   "metadata": {},
   "outputs": [],
   "source": [
    "import pandas as pd\n",
    "from tabula import read_pdf\n",
    "\n",
    "#read_pdf returns a list of dataframes\n",
    "df = read_pdf(url,pages='all',pandas_options={\"header\": None})"
   ]
  },
  {
   "cell_type": "code",
   "execution_count": null,
   "id": "e130a3f0-926e-4c9e-991d-b30509b66f8e",
   "metadata": {},
   "outputs": [],
   "source": [
    "#Had to install it - uncomment if needed - add this to requirements file\n",
    "#%pip install tabula-py"
   ]
  },
  {
   "cell_type": "code",
   "execution_count": null,
   "id": "5b05ff52-b11a-4aea-9e4a-a37c1db07489",
   "metadata": {},
   "outputs": [],
   "source": [
    "#see how many pages were returned\n",
    "\n",
    "len(df)"
   ]
  },
  {
   "cell_type": "code",
   "execution_count": null,
   "id": "f02139fd-5d76-4292-8726-fdc548c35a0e",
   "metadata": {},
   "outputs": [],
   "source": [
    "# read throught the returned pages and display the head of each page\n",
    "for i in range(len(df)):\n",
    "    print(df[i].head())\n"
   ]
  },
  {
   "cell_type": "markdown",
   "id": "afd982e5-1450-41d2-ad95-93b7b4226418",
   "metadata": {},
   "source": [
    "Read_pdf brings in a list of dataframes - one per page/table of document"
   ]
  },
  {
   "cell_type": "code",
   "execution_count": null,
   "id": "d9779186-188a-4486-bd34-5aa4c60ad7db",
   "metadata": {},
   "outputs": [],
   "source": [
    "#access an individual page\n",
    "page=df[0]"
   ]
  },
  {
   "cell_type": "code",
   "execution_count": null,
   "id": "0d27ea50-a7ae-46ff-bb78-cecdcf999449",
   "metadata": {},
   "outputs": [],
   "source": [
    "print(page)"
   ]
  },
  {
   "cell_type": "code",
   "execution_count": null,
   "id": "8a5fd1c6-b0ac-49e1-8ed0-bd3b9427105d",
   "metadata": {},
   "outputs": [],
   "source": [
    "#todo - write out the original file as a copy, write the dataframe to a csv file for future use, check out df.concat"
   ]
  },
  {
   "cell_type": "code",
   "execution_count": null,
   "id": "4cf9df5b-9024-42bb-a4c0-a3d97239b261",
   "metadata": {},
   "outputs": [],
   "source": [
    "#loop through the pages and \n",
    "#drop any row that has Nan in the first column( column 0)\n",
    "for i in range(len(df)):\n",
    "    df[i].dropna(subset=[0],inplace=True)\n"
   ]
  },
  {
   "cell_type": "code",
   "execution_count": null,
   "id": "0ee9b278-bcb2-4a85-aa97-d0ccd356c0fe",
   "metadata": {},
   "outputs": [],
   "source": [
    "#have a look at the first page index 0 again to see if the this worked as expected\n",
    "#lines 1 and 29 should be gone these were the names of the institution\n",
    "print(df[0])"
   ]
  },
  {
   "cell_type": "code",
   "execution_count": null,
   "id": "31cad5c6-a3f6-47f2-a42c-172d11fcfe5b",
   "metadata": {},
   "outputs": [],
   "source": [
    "#have a look at the last page 18 index 17\n",
    "print(df[17])"
   ]
  },
  {
   "cell_type": "code",
   "execution_count": null,
   "id": "a8d7e2cb-aef1-455e-9d2e-32facf951816",
   "metadata": {},
   "outputs": [],
   "source": [
    "#This is looking good now need to figure out how to merge it into one dataframe"
   ]
  },
  {
   "cell_type": "code",
   "execution_count": null,
   "id": "3eea0e52-9302-4382-a45f-7e9dd1bc32eb",
   "metadata": {},
   "outputs": [],
   "source": [
    "#going to try using pandas concatenation function to join each frame into a new data frame\n",
    "#need to drop column indexes from initial dataframes when creating this new df\n",
    "#the returned df is already a list of dfs so we can do the following:\n",
    "df2019 = pd.concat(df, ignore_index=True)"
   ]
  },
  {
   "cell_type": "code",
   "execution_count": null,
   "id": "687292e5-8597-4819-8e4d-a3f45428d13d",
   "metadata": {},
   "outputs": [],
   "source": [
    "#check if above worked by getting the length of the new df\n",
    "len(df2019)\n"
   ]
  },
  {
   "cell_type": "code",
   "execution_count": null,
   "id": "2f3eda25-ab43-4699-8502-b7277e6ed422",
   "metadata": {},
   "outputs": [],
   "source": [
    "#Looks ok - going to check head and tail and do some cross checking with original file\n",
    "df2019.head()"
   ]
  },
  {
   "cell_type": "code",
   "execution_count": null,
   "id": "d8f384cc-b242-4298-8d77-2a4e732128b0",
   "metadata": {},
   "outputs": [],
   "source": [
    "df2019.tail()"
   ]
  },
  {
   "cell_type": "code",
   "execution_count": null,
   "id": "027626ae-1dac-4dae-b574-5d3d8ff0599f",
   "metadata": {
    "tags": []
   },
   "outputs": [],
   "source": [
    "#have a look at the whole dataframe\n",
    "df2019"
   ]
  },
  {
   "cell_type": "code",
   "execution_count": null,
   "id": "9a80cbd1-6048-4c9c-9237-9df7cedd1c74",
   "metadata": {},
   "outputs": [],
   "source": [
    "#ok need to drop column indexes from initial dataframes when creating this new df ( redo to demo ?  remove ignore_index from above if so)"
   ]
  },
  {
   "cell_type": "code",
   "execution_count": null,
   "id": "ea93341d-76a3-4493-9982-81c0802a35b1",
   "metadata": {},
   "outputs": [],
   "source": [
    "#save the dataframe as a csv file to disk\n",
    "df2019.to_csv('cao-points-main/data/cao-2019.csv',sep=',',encoding='utf-8')"
   ]
  },
  {
   "cell_type": "markdown",
   "id": "b084e79e-bf60-48b5-89b6-a2581640d458",
   "metadata": {},
   "source": [
    "***\n",
    "## End"
   ]
  },
  {
   "cell_type": "code",
   "execution_count": null,
   "id": "4359a978-6a81-4d52-a510-d74d2f2ada7f",
   "metadata": {},
   "outputs": [],
   "source": []
  }
 ],
 "metadata": {
  "kernelspec": {
   "display_name": "Python 3",
   "language": "python",
   "name": "python3"
  },
  "language_info": {
   "codemirror_mode": {
    "name": "ipython",
    "version": 3
   },
   "file_extension": ".py",
   "mimetype": "text/x-python",
   "name": "python",
   "nbconvert_exporter": "python",
   "pygments_lexer": "ipython3",
   "version": "3.8.8"
  }
 },
 "nbformat": 4,
 "nbformat_minor": 5
}
